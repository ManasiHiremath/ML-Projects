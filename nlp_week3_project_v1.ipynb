{
 "cells": [
  {
   "cell_type": "code",
   "execution_count": 1,
   "id": "413f07e9",
   "metadata": {},
   "outputs": [],
   "source": [
    "#!pip install seaborn"
   ]
  },
  {
   "cell_type": "markdown",
   "id": "bc287a93",
   "metadata": {},
   "source": [
    "## Part 1 ###"
   ]
  },
  {
   "cell_type": "markdown",
   "id": "e5baec47",
   "metadata": {},
   "source": [
    "#### PROJECT OBJECTIVE: The need is to build a NLP classifier which can use input text parameters to determine the label/s of the blog"
   ]
  },
  {
   "cell_type": "markdown",
   "id": "273c4c4e",
   "metadata": {},
   "source": [
    "#### Step 1: Import libraries"
   ]
  },
  {
   "cell_type": "code",
   "execution_count": 2,
   "id": "95a5712c",
   "metadata": {},
   "outputs": [],
   "source": [
    "import numpy as np\n",
    "import pandas as pd\n",
    "import re\n",
    "import os\n",
    "import seaborn as sns\n",
    "import matplotlib.pyplot as plt\n",
    "\n",
    "%matplotlib inline"
   ]
  },
  {
   "cell_type": "markdown",
   "id": "b5e24ae5",
   "metadata": {},
   "source": [
    "#### Step 2: Import Data"
   ]
  },
  {
   "cell_type": "code",
   "execution_count": 3,
   "id": "74bb8b2a",
   "metadata": {},
   "outputs": [],
   "source": [
    "data=pd.read_csv(os.getcwd()+\"\\\\\"+\"blogtext.csv\\\\blogtext.csv\")"
   ]
  },
  {
   "cell_type": "markdown",
   "id": "82341b99",
   "metadata": {},
   "source": [
    "#### Step 3: Data Exploration"
   ]
  },
  {
   "cell_type": "code",
   "execution_count": 4,
   "id": "825c479c",
   "metadata": {},
   "outputs": [
    {
     "data": {
      "text/plain": [
       "(681284, 7)"
      ]
     },
     "execution_count": 4,
     "metadata": {},
     "output_type": "execute_result"
    }
   ],
   "source": [
    "data.shape"
   ]
  },
  {
   "cell_type": "code",
   "execution_count": 5,
   "id": "403991f0",
   "metadata": {},
   "outputs": [
    {
     "name": "stdout",
     "output_type": "stream",
     "text": [
      "<class 'pandas.core.frame.DataFrame'>\n",
      "RangeIndex: 681284 entries, 0 to 681283\n",
      "Data columns (total 7 columns):\n",
      " #   Column  Non-Null Count   Dtype \n",
      "---  ------  --------------   ----- \n",
      " 0   id      681284 non-null  int64 \n",
      " 1   gender  681284 non-null  object\n",
      " 2   age     681284 non-null  int64 \n",
      " 3   topic   681284 non-null  object\n",
      " 4   sign    681284 non-null  object\n",
      " 5   date    681284 non-null  object\n",
      " 6   text    681284 non-null  object\n",
      "dtypes: int64(2), object(5)\n",
      "memory usage: 36.4+ MB\n"
     ]
    }
   ],
   "source": [
    "data.info()"
   ]
  },
  {
   "cell_type": "code",
   "execution_count": 6,
   "id": "c4186728",
   "metadata": {},
   "outputs": [
    {
     "data": {
      "text/plain": [
       "id        0.0\n",
       "gender    0.0\n",
       "age       0.0\n",
       "topic     0.0\n",
       "sign      0.0\n",
       "date      0.0\n",
       "text      0.0\n",
       "dtype: float64"
      ]
     },
     "execution_count": 6,
     "metadata": {},
     "output_type": "execute_result"
    }
   ],
   "source": [
    "## Checking for any missing data\n",
    "data.isnull().mean()"
   ]
  },
  {
   "cell_type": "markdown",
   "id": "02337bbc",
   "metadata": {},
   "source": [
    "#### Step 3 : Exploratory Analysis"
   ]
  },
  {
   "cell_type": "code",
   "execution_count": 7,
   "id": "5422c672",
   "metadata": {},
   "outputs": [
    {
     "data": {
      "text/html": [
       "<div>\n",
       "<style scoped>\n",
       "    .dataframe tbody tr th:only-of-type {\n",
       "        vertical-align: middle;\n",
       "    }\n",
       "\n",
       "    .dataframe tbody tr th {\n",
       "        vertical-align: top;\n",
       "    }\n",
       "\n",
       "    .dataframe thead th {\n",
       "        text-align: right;\n",
       "    }\n",
       "</style>\n",
       "<table border=\"1\" class=\"dataframe\">\n",
       "  <thead>\n",
       "    <tr style=\"text-align: right;\">\n",
       "      <th></th>\n",
       "      <th>count</th>\n",
       "      <th>unique</th>\n",
       "      <th>top</th>\n",
       "      <th>freq</th>\n",
       "      <th>mean</th>\n",
       "      <th>std</th>\n",
       "      <th>min</th>\n",
       "      <th>25%</th>\n",
       "      <th>50%</th>\n",
       "      <th>75%</th>\n",
       "      <th>max</th>\n",
       "    </tr>\n",
       "  </thead>\n",
       "  <tbody>\n",
       "    <tr>\n",
       "      <th>id</th>\n",
       "      <td>681284.0</td>\n",
       "      <td>NaN</td>\n",
       "      <td>NaN</td>\n",
       "      <td>NaN</td>\n",
       "      <td>2397802.403396</td>\n",
       "      <td>1247722.701325</td>\n",
       "      <td>5114.0</td>\n",
       "      <td>1239610.0</td>\n",
       "      <td>2607577.0</td>\n",
       "      <td>3525660.0</td>\n",
       "      <td>4337650.0</td>\n",
       "    </tr>\n",
       "    <tr>\n",
       "      <th>gender</th>\n",
       "      <td>681284</td>\n",
       "      <td>2</td>\n",
       "      <td>male</td>\n",
       "      <td>345193</td>\n",
       "      <td>NaN</td>\n",
       "      <td>NaN</td>\n",
       "      <td>NaN</td>\n",
       "      <td>NaN</td>\n",
       "      <td>NaN</td>\n",
       "      <td>NaN</td>\n",
       "      <td>NaN</td>\n",
       "    </tr>\n",
       "    <tr>\n",
       "      <th>age</th>\n",
       "      <td>681284.0</td>\n",
       "      <td>NaN</td>\n",
       "      <td>NaN</td>\n",
       "      <td>NaN</td>\n",
       "      <td>23.932326</td>\n",
       "      <td>7.786009</td>\n",
       "      <td>13.0</td>\n",
       "      <td>17.0</td>\n",
       "      <td>24.0</td>\n",
       "      <td>26.0</td>\n",
       "      <td>48.0</td>\n",
       "    </tr>\n",
       "    <tr>\n",
       "      <th>topic</th>\n",
       "      <td>681284</td>\n",
       "      <td>40</td>\n",
       "      <td>indUnk</td>\n",
       "      <td>251015</td>\n",
       "      <td>NaN</td>\n",
       "      <td>NaN</td>\n",
       "      <td>NaN</td>\n",
       "      <td>NaN</td>\n",
       "      <td>NaN</td>\n",
       "      <td>NaN</td>\n",
       "      <td>NaN</td>\n",
       "    </tr>\n",
       "    <tr>\n",
       "      <th>sign</th>\n",
       "      <td>681284</td>\n",
       "      <td>12</td>\n",
       "      <td>Cancer</td>\n",
       "      <td>65048</td>\n",
       "      <td>NaN</td>\n",
       "      <td>NaN</td>\n",
       "      <td>NaN</td>\n",
       "      <td>NaN</td>\n",
       "      <td>NaN</td>\n",
       "      <td>NaN</td>\n",
       "      <td>NaN</td>\n",
       "    </tr>\n",
       "    <tr>\n",
       "      <th>date</th>\n",
       "      <td>681284</td>\n",
       "      <td>2616</td>\n",
       "      <td>02,August,2004</td>\n",
       "      <td>16544</td>\n",
       "      <td>NaN</td>\n",
       "      <td>NaN</td>\n",
       "      <td>NaN</td>\n",
       "      <td>NaN</td>\n",
       "      <td>NaN</td>\n",
       "      <td>NaN</td>\n",
       "      <td>NaN</td>\n",
       "    </tr>\n",
       "    <tr>\n",
       "      <th>text</th>\n",
       "      <td>681284</td>\n",
       "      <td>611652</td>\n",
       "      <td>urlLink</td>\n",
       "      <td>445</td>\n",
       "      <td>NaN</td>\n",
       "      <td>NaN</td>\n",
       "      <td>NaN</td>\n",
       "      <td>NaN</td>\n",
       "      <td>NaN</td>\n",
       "      <td>NaN</td>\n",
       "      <td>NaN</td>\n",
       "    </tr>\n",
       "  </tbody>\n",
       "</table>\n",
       "</div>"
      ],
      "text/plain": [
       "           count  unique                  top    freq            mean  \\\n",
       "id      681284.0     NaN                  NaN     NaN  2397802.403396   \n",
       "gender    681284       2                 male  345193             NaN   \n",
       "age     681284.0     NaN                  NaN     NaN       23.932326   \n",
       "topic     681284      40               indUnk  251015             NaN   \n",
       "sign      681284      12               Cancer   65048             NaN   \n",
       "date      681284    2616       02,August,2004   16544             NaN   \n",
       "text      681284  611652           urlLink        445             NaN   \n",
       "\n",
       "                   std     min        25%        50%        75%        max  \n",
       "id      1247722.701325  5114.0  1239610.0  2607577.0  3525660.0  4337650.0  \n",
       "gender             NaN     NaN        NaN        NaN        NaN        NaN  \n",
       "age           7.786009    13.0       17.0       24.0       26.0       48.0  \n",
       "topic              NaN     NaN        NaN        NaN        NaN        NaN  \n",
       "sign               NaN     NaN        NaN        NaN        NaN        NaN  \n",
       "date               NaN     NaN        NaN        NaN        NaN        NaN  \n",
       "text               NaN     NaN        NaN        NaN        NaN        NaN  "
      ]
     },
     "execution_count": 7,
     "metadata": {},
     "output_type": "execute_result"
    }
   ],
   "source": [
    "data.describe(include='all').T"
   ]
  },
  {
   "cell_type": "code",
   "execution_count": 8,
   "id": "dbad61f1",
   "metadata": {},
   "outputs": [
    {
     "data": {
      "text/plain": [
       "<AxesSubplot:>"
      ]
     },
     "execution_count": 8,
     "metadata": {},
     "output_type": "execute_result"
    },
    {
     "data": {
      "image/png": "[encoded data removed]",
      "text/plain": [
       "<Figure size 432x288 with 1 Axes>"
      ]
     },
     "metadata": {
      "needs_background": "light"
     },
     "output_type": "display_data"
    }
   ],
   "source": [
    "data['gender'].value_counts(normalize=True).plot(kind='bar')"
   ]
  },
  {
   "cell_type": "code",
   "execution_count": 9,
   "id": "a8a85ac3",
   "metadata": {},
   "outputs": [
    {
     "data": {
      "text/plain": [
       "<AxesSubplot:>"
      ]
     },
     "execution_count": 9,
     "metadata": {},
     "output_type": "execute_result"
    },
    {
     "data": {
      "image/png": "[encoded data removed]",
      "text/plain": [
       "<Figure size 432x288 with 1 Axes>"
      ]
     },
     "metadata": {
      "needs_background": "light"
     },
     "output_type": "display_data"
    }
   ],
   "source": [
    "data['sign'].value_counts(normalize=True).plot(kind='bar')"
   ]
  },
  {
   "cell_type": "code",
   "execution_count": 10,
   "id": "aade520d",
   "metadata": {},
   "outputs": [
    {
     "data": {
      "text/plain": [
       "<AxesSubplot:>"
      ]
     },
     "execution_count": 10,
     "metadata": {},
     "output_type": "execute_result"
    },
    {
     "data": {
      "image/png": "[encoded data removed]",
      "text/plain": [
       "<Figure size 432x288 with 1 Axes>"
      ]
     },
     "metadata": {
      "needs_background": "light"
     },
     "output_type": "display_data"
    }
   ],
   "source": [
    "data['age'].value_counts(normalize=True).plot(kind='bar')"
   ]
  },
  {
   "cell_type": "code",
   "execution_count": 11,
   "id": "dba9409e",
   "metadata": {},
   "outputs": [
    {
     "data": {
      "text/plain": [
       "indUnk                     0.368444\n",
       "Student                    0.225901\n",
       "Technology                 0.061729\n",
       "Arts                       0.047629\n",
       "Education                  0.043496\n",
       "Communications-Media       0.029562\n",
       "Internet                   0.023494\n",
       "Non-Profit                 0.021577\n",
       "Engineering                0.017104\n",
       "Law                        0.013269\n",
       "Publishing                 0.011380\n",
       "Science                    0.010670\n",
       "Government                 0.010138\n",
       "Consulting                 0.008604\n",
       "Religion                   0.007684\n",
       "Fashion                    0.007120\n",
       "Marketing                  0.007000\n",
       "Advertising                0.006864\n",
       "BusinessServices           0.006605\n",
       "Banking                    0.005943\n",
       "Chemicals                  0.005766\n",
       "Telecommunications         0.005711\n",
       "Accounting                 0.005625\n",
       "Military                   0.004591\n",
       "Museums-Libraries          0.004544\n",
       "Sports-Recreation          0.004459\n",
       "HumanResources             0.004418\n",
       "RealEstate                 0.004213\n",
       "Transportation             0.003414\n",
       "Manufacturing              0.003335\n",
       "Biotech                    0.003279\n",
       "Tourism                    0.002850\n",
       "LawEnforcement-Security    0.002757\n",
       "Architecture               0.002404\n",
       "InvestmentBanking          0.001896\n",
       "Automotive                 0.001826\n",
       "Agriculture                0.001813\n",
       "Construction               0.001604\n",
       "Environment                0.000869\n",
       "Maritime                   0.000411\n",
       "Name: topic, dtype: float64"
      ]
     },
     "execution_count": 11,
     "metadata": {},
     "output_type": "execute_result"
    }
   ],
   "source": [
    "data['topic'].value_counts(normalize=True)"
   ]
  },
  {
   "cell_type": "markdown",
   "id": "c336bf03",
   "metadata": {},
   "source": [
    "Summary we do not have enough number of observations for each topics and age"
   ]
  },
  {
   "cell_type": "code",
   "execution_count": 12,
   "id": "cf1ff2a1",
   "metadata": {},
   "outputs": [],
   "source": [
    "data[\"age\"] = data[\"age\"].astype(str)\n",
    "data[\"labels\"] = data.apply(lambda col :\n",
    "                            [col[\"gender\"],col[\"age\"],col[\"topic\"],col[\"sign\"]],axis =1)"
   ]
  },
  {
   "cell_type": "code",
   "execution_count": 13,
   "id": "39129976",
   "metadata": {},
   "outputs": [
    {
     "data": {
      "text/html": [
       "<div>\n",
       "<style scoped>\n",
       "    .dataframe tbody tr th:only-of-type {\n",
       "        vertical-align: middle;\n",
       "    }\n",
       "\n",
       "    .dataframe tbody tr th {\n",
       "        vertical-align: top;\n",
       "    }\n",
       "\n",
       "    .dataframe thead th {\n",
       "        text-align: right;\n",
       "    }\n",
       "</style>\n",
       "<table border=\"1\" class=\"dataframe\">\n",
       "  <thead>\n",
       "    <tr style=\"text-align: right;\">\n",
       "      <th></th>\n",
       "      <th>text</th>\n",
       "      <th>labels</th>\n",
       "    </tr>\n",
       "  </thead>\n",
       "  <tbody>\n",
       "    <tr>\n",
       "      <th>0</th>\n",
       "      <td>Info has been found (+/- 100 pages,...</td>\n",
       "      <td>[male, 15, Student, Leo]</td>\n",
       "    </tr>\n",
       "    <tr>\n",
       "      <th>1</th>\n",
       "      <td>These are the team members:   Drewe...</td>\n",
       "      <td>[male, 15, Student, Leo]</td>\n",
       "    </tr>\n",
       "    <tr>\n",
       "      <th>2</th>\n",
       "      <td>In het kader van kernfusie op aarde...</td>\n",
       "      <td>[male, 15, Student, Leo]</td>\n",
       "    </tr>\n",
       "  </tbody>\n",
       "</table>\n",
       "</div>"
      ],
      "text/plain": [
       "                                                text                    labels\n",
       "0             Info has been found (+/- 100 pages,...  [male, 15, Student, Leo]\n",
       "1             These are the team members:   Drewe...  [male, 15, Student, Leo]\n",
       "2             In het kader van kernfusie op aarde...  [male, 15, Student, Leo]"
      ]
     },
     "execution_count": 13,
     "metadata": {},
     "output_type": "execute_result"
    }
   ],
   "source": [
    "data_new=data.drop(columns=['id','gender','age','topic','sign','date'], axis=1)    \n",
    "data_new.head(3)"
   ]
  },
  {
   "cell_type": "markdown",
   "id": "e296fd06",
   "metadata": {},
   "source": [
    "#### Step 4: Data Processing "
   ]
  },
  {
   "cell_type": "code",
   "execution_count": 14,
   "id": "86533385",
   "metadata": {},
   "outputs": [
    {
     "data": {
      "text/plain": [
       "array([list(['male', '15', 'Student', 'Leo']),\n",
       "       list(['male', '15', 'Student', 'Leo']),\n",
       "       list(['male', '15', 'Student', 'Leo']), ...,\n",
       "       list(['female', '25', 'indUnk', 'Pisces']),\n",
       "       list(['female', '25', 'indUnk', 'Pisces']),\n",
       "       list(['female', '25', 'indUnk', 'Pisces'])], dtype=object)"
      ]
     },
     "execution_count": 14,
     "metadata": {},
     "output_type": "execute_result"
    }
   ],
   "source": [
    "data1=data_new[0:10000] \n",
    "data1.labels.values"
   ]
  },
  {
   "cell_type": "code",
   "execution_count": 15,
   "id": "4da25c6f",
   "metadata": {},
   "outputs": [
    {
     "data": {
      "text/plain": [
       "{'male': 5916,\n",
       " '15': 602,\n",
       " 'Student': 1137,\n",
       " 'Leo': 301,\n",
       " '33': 136,\n",
       " 'InvestmentBanking': 70,\n",
       " 'Aquarius': 571,\n",
       " 'female': 4084,\n",
       " '14': 212,\n",
       " 'indUnk': 3287,\n",
       " 'Aries': 4198,\n",
       " '25': 386,\n",
       " 'Capricorn': 215,\n",
       " '17': 1185,\n",
       " 'Gemini': 150,\n",
       " '23': 253,\n",
       " 'Non-Profit': 71,\n",
       " 'Cancer': 504,\n",
       " 'Banking': 16,\n",
       " '37': 33,\n",
       " 'Sagittarius': 1097,\n",
       " '26': 234,\n",
       " '24': 655,\n",
       " 'Scorpio': 971,\n",
       " '27': 1054,\n",
       " 'Education': 270,\n",
       " '45': 16,\n",
       " 'Engineering': 127,\n",
       " 'Libra': 491,\n",
       " 'Science': 63,\n",
       " '34': 553,\n",
       " '41': 20,\n",
       " 'Communications-Media': 99,\n",
       " 'BusinessServices': 91,\n",
       " 'Sports-Recreation': 80,\n",
       " 'Virgo': 236,\n",
       " 'Taurus': 812,\n",
       " 'Arts': 45,\n",
       " 'Pisces': 454,\n",
       " '44': 3,\n",
       " '16': 440,\n",
       " 'Internet': 118,\n",
       " 'Museums-Libraries': 17,\n",
       " 'Accounting': 4,\n",
       " '39': 79,\n",
       " '35': 2315,\n",
       " 'Technology': 2654,\n",
       " '36': 1708,\n",
       " 'Law': 11,\n",
       " '46': 7,\n",
       " 'Consulting': 21,\n",
       " 'Automotive': 14,\n",
       " '42': 14,\n",
       " 'Religion': 9,\n",
       " '13': 42,\n",
       " 'Fashion': 1622,\n",
       " '38': 46,\n",
       " '43': 6,\n",
       " 'Publishing': 4,\n",
       " '40': 1,\n",
       " 'Marketing': 156,\n",
       " 'LawEnforcement-Security': 10,\n",
       " 'HumanResources': 2,\n",
       " 'Telecommunications': 2}"
      ]
     },
     "execution_count": 15,
     "metadata": {},
     "output_type": "execute_result"
    }
   ],
   "source": [
    "### For multi-label data analysis get label count\n",
    "label_counts=dict()\n",
    "\n",
    "for labels in data1.labels.values:\n",
    "    for label in labels:\n",
    "        if label in label_counts:\n",
    "            label_counts[str(label)]+=1\n",
    "        else:\n",
    "            label_counts[str(label)]=1\n",
    "        \n",
    "label_counts"
   ]
  },
  {
   "cell_type": "code",
   "execution_count": 16,
   "id": "ce0d314c",
   "metadata": {},
   "outputs": [
    {
     "name": "stderr",
     "output_type": "stream",
     "text": [
      "[nltk_data] Downloading package stopwords to\n",
      "[nltk_data]     C:\\Users\\rajhi\\AppData\\Roaming\\nltk_data...\n",
      "[nltk_data]   Package stopwords is already up-to-date!\n",
      "[nltk_data] Downloading package punkt to\n",
      "[nltk_data]     C:\\Users\\rajhi\\AppData\\Roaming\\nltk_data...\n",
      "[nltk_data]   Package punkt is already up-to-date!\n"
     ]
    },
    {
     "data": {
      "text/plain": [
       "True"
      ]
     },
     "execution_count": 16,
     "metadata": {},
     "output_type": "execute_result"
    }
   ],
   "source": [
    "### nlp processing\n",
    "import nltk\n",
    "nltk.download('stopwords') # collection of stopwords in different language. Will be used stop words like is, and etc.\n",
    "nltk.download('punkt') "
   ]
  },
  {
   "cell_type": "code",
   "execution_count": 17,
   "id": "a2bb8fc3",
   "metadata": {},
   "outputs": [],
   "source": [
    "import string\n",
    "#get stopwords in english\n",
    "stop_words=nltk.corpus.stopwords.words('english')+ list(string.punctuation)\n",
    "\n",
    "def doc_preprocess(doc):\n",
    "    doc = re.sub(r'[^a-zA-Z\\s^\\D]', ' ', doc, re.I|re.A)\n",
    "    doc = doc.lower()\n",
    "    doc = doc.strip()\n",
    "    ## tokenize the document\n",
    "    tokens= nltk.word_tokenize(doc)\n",
    "    #remove stop words\n",
    "    wordList=[token for token in tokens if token not in stop_words and not token.isdigit()]\n",
    "    # re-create document from filtered tokens\n",
    "    doc = ' '.join(wordList)\n",
    "    return doc\n",
    "    \n",
    "normalize_corpus = np.vectorize(doc_preprocess)"
   ]
  },
  {
   "cell_type": "code",
   "execution_count": 18,
   "id": "7e651516",
   "metadata": {},
   "outputs": [
    {
     "name": "stdout",
     "output_type": "stream",
     "text": [
      "Original Corpus:\n",
      "\n",
      "\n"
     ]
    },
    {
     "data": {
      "text/plain": [
       "\"             Ah, the Korean language...it looks so difficult at first, then as you figure out how to read Hanguel (Korea's surprisingly easy-to-learn alphabet of 24 characters) it seems so easy. Then the vocabulary starts. Oh no. Then the backwards (to us) sentence structure.  Yikes!  Luckily there are many options for us slow-witted foreigners to take on the language.  Of course I could list them here but  urlLink this JoongAng article  says a lot and there are more resources  urlLink here .    Well, if you're a guy here is some motivation for you: Jeon Ji Hyun (전지현), the latest 20-something (24, actually) star of movies and CFs (I hear this means Commercial Feature, but not positive).  I saw her latest movie on Sunday night.  It's hard to describe the name...the English version is 'Windstruck' but the Korean version is 여친소 (yeochinso) which is short for 내여자친구를소개합니다 (ne yeojachingu rul sogayhamnida) or 'I'd like to introduce you to my girlfriend'.  Surprisingly, both titles make sense.  If you like, there is a website (Korean and English, looks quite good, actually)  urlLink here .  The movie is shown in theatres with subtitles at special times, that info is  urlLink here . For a list of many of the theatres in Seoul click....  urlLink here!    urlLink    Here is a great reason to learn Korean...if I wasn't already married, that is.  I went with a few foreigners as well as a local/Korean/National...of course the Korean HAD to take a picture...so I HAVE to put it up here.   urlLink    Here we are after the movie...and before the hof/bar.     Update:  A bud of mine passed  urlLink this link  on to me. It's 전지현 in a Giordano ad. Apparently it was NOT aired in Korea (nothing XXX about it, it's all about sensibilities of some sort).         \""
      ]
     },
     "execution_count": 18,
     "metadata": {},
     "output_type": "execute_result"
    }
   ],
   "source": [
    "### create corpus\n",
    "corpus=[]\n",
    "corpus=data1['text']\n",
    "corpus = np.array(corpus)\n",
    "print(\"Original Corpus:\")\n",
    "print(\"\\n\")\n",
    "corpus[10]"
   ]
  },
  {
   "cell_type": "code",
   "execution_count": 19,
   "id": "a76886b8",
   "metadata": {},
   "outputs": [
    {
     "name": "stdout",
     "output_type": "stream",
     "text": [
      "Clean Corpus:\n",
      "\n",
      "\n"
     ]
    },
    {
     "data": {
      "text/plain": [
       "\"ah korean language ... looks difficult first figure read hanguel korea 's surprisingly easy-to-learn alphabet characters seems easy vocabulary starts oh backwards us sentence structure yikes luckily many options us slow-witted foreigners take language course could list urllink joongang article says lot resources urllink well 're guy motivation jeon ji hyun 전지현 latest -something actually star movies cfs hear means commercial feature positive saw latest movie sunday night 's hard describe name ... english version 'windstruck korean version 여친소 yeochinso short 내여자친구를소개합니다 ne yeojachingu rul sogayhamnida 'd like introduce girlfriend surprisingly titles make sense like website korean english looks quite good actually urllink movie shown theatres subtitles special times info urllink list many theatres seoul click .... urllink urllink great reason learn korean ... n't already married went foreigners well local/korean/national ... course korean take picture ... put urllink movie ... hof/bar update bud mine passed urllink link 's 전지현 giordano ad apparently aired korea nothing xxx 's sensibilities sort\""
      ]
     },
     "execution_count": 19,
     "metadata": {},
     "output_type": "execute_result"
    }
   ],
   "source": [
    "### clean corpus\n",
    "norm_corpus = normalize_corpus(corpus)\n",
    "print(\"Clean Corpus:\")\n",
    "print(\"\\n\")\n",
    "norm_corpus[10]"
   ]
  },
  {
   "cell_type": "code",
   "execution_count": 20,
   "id": "9b25708b",
   "metadata": {},
   "outputs": [],
   "source": [
    "### Multilabel data processing"
   ]
  },
  {
   "cell_type": "code",
   "execution_count": 21,
   "id": "e5cfb3ea",
   "metadata": {},
   "outputs": [
    {
     "name": "stdout",
     "output_type": "stream",
     "text": [
      "Multilabel counts: 64\n",
      "Targert variable shape: (10000, 64)\n"
     ]
    }
   ],
   "source": [
    "from sklearn.preprocessing import MultiLabelBinarizer\n",
    "\n",
    "# Transform between iterable of iterables and a multilabel format\n",
    "binarizer=MultiLabelBinarizer(classes=sorted(label_counts.keys()))\n",
    "\n",
    "##Process output\n",
    "y = binarizer.fit_transform(data1['labels'])\n",
    "print(\"Multilabel counts:\",len(label_counts))\n",
    "print(\"Targert variable shape:\",y.shape)"
   ]
  },
  {
   "cell_type": "code",
   "execution_count": 22,
   "id": "1b753f2d",
   "metadata": {},
   "outputs": [
    {
     "data": {
      "text/plain": [
       "array([[0, 0, 1, ..., 0, 0, 1],\n",
       "       [0, 0, 1, ..., 0, 0, 1],\n",
       "       [0, 0, 1, ..., 0, 0, 1],\n",
       "       ...,\n",
       "       [0, 0, 0, ..., 1, 1, 0],\n",
       "       [0, 0, 0, ..., 1, 1, 0],\n",
       "       [0, 0, 0, ..., 1, 1, 0]])"
      ]
     },
     "execution_count": 22,
     "metadata": {},
     "output_type": "execute_result"
    }
   ],
   "source": [
    "#Check output variable\n",
    "y"
   ]
  },
  {
   "cell_type": "markdown",
   "id": "42683527",
   "metadata": {},
   "source": [
    "### Step 4 :Feature creations using simple Term frequency - TF\n",
    "##### Create Features"
   ]
  },
  {
   "cell_type": "code",
   "execution_count": 23,
   "id": "1ac0c106",
   "metadata": {},
   "outputs": [],
   "source": [
    "from sklearn.feature_extraction.text import CountVectorizer"
   ]
  },
  {
   "cell_type": "code",
   "execution_count": 24,
   "id": "f5d53e63",
   "metadata": {},
   "outputs": [
    {
     "data": {
      "text/html": [
       "<div>\n",
       "<style scoped>\n",
       "    .dataframe tbody tr th:only-of-type {\n",
       "        vertical-align: middle;\n",
       "    }\n",
       "\n",
       "    .dataframe tbody tr th {\n",
       "        vertical-align: top;\n",
       "    }\n",
       "\n",
       "    .dataframe thead th {\n",
       "        text-align: right;\n",
       "    }\n",
       "</style>\n",
       "<table border=\"1\" class=\"dataframe\">\n",
       "  <thead>\n",
       "    <tr style=\"text-align: right;\">\n",
       "      <th></th>\n",
       "      <th>000</th>\n",
       "      <th>05</th>\n",
       "      <th>06</th>\n",
       "      <th>075</th>\n",
       "      <th>076</th>\n",
       "      <th>077</th>\n",
       "      <th>078</th>\n",
       "      <th>079</th>\n",
       "      <th>080</th>\n",
       "      <th>081</th>\n",
       "      <th>...</th>\n",
       "      <th>치과</th>\n",
       "      <th>푸하하하</th>\n",
       "      <th>한강</th>\n",
       "      <th>한방삼계탕</th>\n",
       "      <th>형님들의</th>\n",
       "      <th>회식</th>\n",
       "      <th>ｄｅｌｉｃｉｏｕｓ</th>\n",
       "      <th>ｉｎａｃｃｕｒａｔｅだけど</th>\n",
       "      <th>ｉｎｓｐｉｒｅ</th>\n",
       "      <th>ｎｅｖｅｒｍｉｎｄですが</th>\n",
       "    </tr>\n",
       "  </thead>\n",
       "  <tbody>\n",
       "    <tr>\n",
       "      <th>0</th>\n",
       "      <td>0</td>\n",
       "      <td>0</td>\n",
       "      <td>0</td>\n",
       "      <td>0</td>\n",
       "      <td>0</td>\n",
       "      <td>0</td>\n",
       "      <td>0</td>\n",
       "      <td>0</td>\n",
       "      <td>0</td>\n",
       "      <td>0</td>\n",
       "      <td>...</td>\n",
       "      <td>0</td>\n",
       "      <td>0</td>\n",
       "      <td>0</td>\n",
       "      <td>0</td>\n",
       "      <td>0</td>\n",
       "      <td>0</td>\n",
       "      <td>0</td>\n",
       "      <td>0</td>\n",
       "      <td>0</td>\n",
       "      <td>0</td>\n",
       "    </tr>\n",
       "    <tr>\n",
       "      <th>1</th>\n",
       "      <td>0</td>\n",
       "      <td>0</td>\n",
       "      <td>0</td>\n",
       "      <td>0</td>\n",
       "      <td>0</td>\n",
       "      <td>0</td>\n",
       "      <td>0</td>\n",
       "      <td>0</td>\n",
       "      <td>0</td>\n",
       "      <td>0</td>\n",
       "      <td>...</td>\n",
       "      <td>0</td>\n",
       "      <td>0</td>\n",
       "      <td>0</td>\n",
       "      <td>0</td>\n",
       "      <td>0</td>\n",
       "      <td>0</td>\n",
       "      <td>0</td>\n",
       "      <td>0</td>\n",
       "      <td>0</td>\n",
       "      <td>0</td>\n",
       "    </tr>\n",
       "  </tbody>\n",
       "</table>\n",
       "<p>2 rows × 24323 columns</p>\n",
       "</div>"
      ],
      "text/plain": [
       "   000  05  06  075  076  077  078  079  080  081  ...  치과  푸하하하  한강  한방삼계탕  \\\n",
       "0    0   0   0    0    0    0    0    0    0    0  ...   0     0   0      0   \n",
       "1    0   0   0    0    0    0    0    0    0    0  ...   0     0   0      0   \n",
       "\n",
       "   형님들의  회식  ｄｅｌｉｃｉｏｕｓ  ｉｎａｃｃｕｒａｔｅだけど  ｉｎｓｐｉｒｅ  ｎｅｖｅｒｍｉｎｄですが  \n",
       "0     0   0          0              0        0             0  \n",
       "1     0   0          0              0        0             0  \n",
       "\n",
       "[2 rows x 24323 columns]"
      ]
     },
     "execution_count": 24,
     "metadata": {},
     "output_type": "execute_result"
    }
   ],
   "source": [
    "cv= CountVectorizer(min_df=1, max_df=1, ngram_range=(1,1))\n",
    "cv_matrix= cv.fit_transform(norm_corpus)\n",
    "cv_matrix_ar = cv_matrix.toarray()\n",
    "cv_matrix_ar.shape\n",
    "vocab = cv.get_feature_names()\n",
    "cv_matrix_df=pd.DataFrame(cv_matrix_ar, columns=vocab)\n",
    "cv_matrix_df.head(2)"
   ]
  },
  {
   "cell_type": "code",
   "execution_count": 25,
   "id": "2292e5ae",
   "metadata": {},
   "outputs": [],
   "source": [
    "## select best features for prediction\n",
    "from sklearn.feature_selection import SelectKBest, chi2\n",
    "\n",
    "ch2 = SelectKBest(chi2, k=500)\n",
    "X = ch2.fit_transform(cv_matrix_df, y)"
   ]
  },
  {
   "cell_type": "code",
   "execution_count": 26,
   "id": "cd7aa313",
   "metadata": {},
   "outputs": [
    {
     "data": {
      "text/plain": [
       "(10000, 500)"
      ]
     },
     "execution_count": 26,
     "metadata": {},
     "output_type": "execute_result"
    }
   ],
   "source": [
    "X.shape"
   ]
  },
  {
   "cell_type": "code",
   "execution_count": 27,
   "id": "04b0fc7e",
   "metadata": {},
   "outputs": [],
   "source": [
    "from sklearn.model_selection import train_test_split\n",
    "\n",
    "X_train, X_test, y_train, y_test =train_test_split(X,y, random_state=42,test_size = 0.2, shuffle = True)"
   ]
  },
  {
   "cell_type": "code",
   "execution_count": 28,
   "id": "870d495d",
   "metadata": {},
   "outputs": [
    {
     "name": "stdout",
     "output_type": "stream",
     "text": [
      "shape of training set : (8000, 500)\n",
      "shape of test set : (2000, 500)\n"
     ]
    }
   ],
   "source": [
    "print(\"shape of training set :\", X_train.shape)\n",
    "print(\"shape of test set :\", X_test.shape)"
   ]
  },
  {
   "cell_type": "code",
   "execution_count": 29,
   "id": "a21f3409",
   "metadata": {},
   "outputs": [],
   "source": [
    "### Performance \n",
    "from sklearn.metrics import accuracy_score,f1_score,average_precision_score,recall_score,average_precision_score"
   ]
  },
  {
   "cell_type": "code",
   "execution_count": 30,
   "id": "77295837",
   "metadata": {},
   "outputs": [],
   "source": [
    "# ## Create Performance Matrix\n",
    "# def display_metrics_micro(Ytest, Ypred):\n",
    "#     print('Accuracy score: ', accuracy_score(Ytest, Ypred))\n",
    "#     print('F1 score: Micro', f1_score(Ytest, Ypred, average='micro'))\n",
    "#     print('Average precision score: Micro', average_precision_score(Ytest, Ypred, average='micro'))\n",
    "#     print('Average recall score: Micro', recall_score(Ytest, Ypred, average='micro'))\n",
    "\n",
    "# def display_metrics_macro(Ytest, Ypred):\n",
    "#     print('Accuracy score: ', accuracy_score(Ytest, Ypred))\n",
    "#     print('F1 score: Macro', f1_score(Ytest, Ypred, average='macro'))\n",
    "#     print('Average recall score: MAcro', recall_score(Ytest, Ypred, average='macro'))\n",
    "    \n",
    "def display_metrics_weighted(Ytest, Ypred):\n",
    "    print('Accuracy score: ', accuracy_score(Ytest, Ypred))\n",
    "    print('F1 score: weighted', f1_score(Ytest, Ypred, average='weighted'))\n",
    "    print('Average precision score: weighted', average_precision_score(Ytest, Ypred, average='weighted'))\n",
    "    print('Average recall score: weighted', recall_score(Ytest, Ypred, average='weighted'))"
   ]
  },
  {
   "cell_type": "code",
   "execution_count": 31,
   "id": "5f9cfec8",
   "metadata": {},
   "outputs": [],
   "source": [
    "from sklearn.linear_model import LogisticRegression\n",
    "from sklearn.pipeline import Pipeline\n",
    "from sklearn.multiclass import OneVsRestClassifier\n",
    "\n",
    "# Using pipeline for applying logistic regression and one vs rest classifier\n",
    "LogReg_pipeline = Pipeline([('clf', OneVsRestClassifier(LogisticRegression(solver='sag'),n_jobs=-1))])\n",
    "LogReg_pipeline.fit(X_train, y_train)\n",
    "\n",
    "Y_predicted = LogReg_pipeline.predict(X_test)"
   ]
  },
  {
   "cell_type": "code",
   "execution_count": 32,
   "id": "e4eb6d31",
   "metadata": {},
   "outputs": [],
   "source": [
    "#!pip install scikit-multilearn"
   ]
  },
  {
   "cell_type": "code",
   "execution_count": 33,
   "id": "55b39a3f",
   "metadata": {},
   "outputs": [],
   "source": [
    "Y_predicted = LogReg_pipeline.predict(X_test)"
   ]
  },
  {
   "cell_type": "code",
   "execution_count": 34,
   "id": "3bcf7850",
   "metadata": {},
   "outputs": [
    {
     "data": {
      "text/html": [
       "<div>\n",
       "<style scoped>\n",
       "    .dataframe tbody tr th:only-of-type {\n",
       "        vertical-align: middle;\n",
       "    }\n",
       "\n",
       "    .dataframe tbody tr th {\n",
       "        vertical-align: top;\n",
       "    }\n",
       "\n",
       "    .dataframe thead th {\n",
       "        text-align: right;\n",
       "    }\n",
       "</style>\n",
       "<table border=\"1\" class=\"dataframe\">\n",
       "  <thead>\n",
       "    <tr style=\"text-align: right;\">\n",
       "      <th></th>\n",
       "      <th>male</th>\n",
       "      <th>15</th>\n",
       "      <th>Student</th>\n",
       "      <th>Leo</th>\n",
       "      <th>33</th>\n",
       "      <th>InvestmentBanking</th>\n",
       "      <th>Aquarius</th>\n",
       "      <th>female</th>\n",
       "      <th>14</th>\n",
       "      <th>indUnk</th>\n",
       "      <th>...</th>\n",
       "      <th>13</th>\n",
       "      <th>Fashion</th>\n",
       "      <th>38</th>\n",
       "      <th>43</th>\n",
       "      <th>Publishing</th>\n",
       "      <th>40</th>\n",
       "      <th>Marketing</th>\n",
       "      <th>LawEnforcement-Security</th>\n",
       "      <th>HumanResources</th>\n",
       "      <th>Telecommunications</th>\n",
       "    </tr>\n",
       "  </thead>\n",
       "  <tbody>\n",
       "    <tr>\n",
       "      <th>0</th>\n",
       "      <td>0</td>\n",
       "      <td>0</td>\n",
       "      <td>0</td>\n",
       "      <td>0</td>\n",
       "      <td>0</td>\n",
       "      <td>1</td>\n",
       "      <td>0</td>\n",
       "      <td>0</td>\n",
       "      <td>0</td>\n",
       "      <td>0</td>\n",
       "      <td>...</td>\n",
       "      <td>0</td>\n",
       "      <td>0</td>\n",
       "      <td>0</td>\n",
       "      <td>1</td>\n",
       "      <td>0</td>\n",
       "      <td>0</td>\n",
       "      <td>0</td>\n",
       "      <td>0</td>\n",
       "      <td>0</td>\n",
       "      <td>1</td>\n",
       "    </tr>\n",
       "    <tr>\n",
       "      <th>1</th>\n",
       "      <td>0</td>\n",
       "      <td>0</td>\n",
       "      <td>0</td>\n",
       "      <td>0</td>\n",
       "      <td>1</td>\n",
       "      <td>0</td>\n",
       "      <td>0</td>\n",
       "      <td>0</td>\n",
       "      <td>0</td>\n",
       "      <td>0</td>\n",
       "      <td>...</td>\n",
       "      <td>0</td>\n",
       "      <td>0</td>\n",
       "      <td>0</td>\n",
       "      <td>0</td>\n",
       "      <td>0</td>\n",
       "      <td>0</td>\n",
       "      <td>0</td>\n",
       "      <td>0</td>\n",
       "      <td>1</td>\n",
       "      <td>1</td>\n",
       "    </tr>\n",
       "  </tbody>\n",
       "</table>\n",
       "<p>2 rows × 64 columns</p>\n",
       "</div>"
      ],
      "text/plain": [
       "   male  15  Student  Leo  33  InvestmentBanking  Aquarius  female  14  \\\n",
       "0     0   0        0    0   0                  1         0       0   0   \n",
       "1     0   0        0    0   1                  0         0       0   0   \n",
       "\n",
       "   indUnk  ...  13  Fashion  38  43  Publishing  40  Marketing  \\\n",
       "0       0  ...   0        0   0   1           0   0          0   \n",
       "1       0  ...   0        0   0   0           0   0          0   \n",
       "\n",
       "   LawEnforcement-Security  HumanResources  Telecommunications  \n",
       "0                        0               0                   1  \n",
       "1                        0               1                   1  \n",
       "\n",
       "[2 rows x 64 columns]"
      ]
     },
     "execution_count": 34,
     "metadata": {},
     "output_type": "execute_result"
    }
   ],
   "source": [
    "y_test_df=pd.DataFrame(y_test,columns=label_counts.keys())\n",
    "y_test_df.head(2)"
   ]
  },
  {
   "cell_type": "code",
   "execution_count": 35,
   "id": "daa7cdc1",
   "metadata": {},
   "outputs": [
    {
     "data": {
      "text/html": [
       "<div>\n",
       "<style scoped>\n",
       "    .dataframe tbody tr th:only-of-type {\n",
       "        vertical-align: middle;\n",
       "    }\n",
       "\n",
       "    .dataframe tbody tr th {\n",
       "        vertical-align: top;\n",
       "    }\n",
       "\n",
       "    .dataframe thead th {\n",
       "        text-align: right;\n",
       "    }\n",
       "</style>\n",
       "<table border=\"1\" class=\"dataframe\">\n",
       "  <thead>\n",
       "    <tr style=\"text-align: right;\">\n",
       "      <th></th>\n",
       "      <th>male</th>\n",
       "      <th>15</th>\n",
       "      <th>Student</th>\n",
       "      <th>Leo</th>\n",
       "      <th>33</th>\n",
       "      <th>InvestmentBanking</th>\n",
       "      <th>Aquarius</th>\n",
       "      <th>female</th>\n",
       "      <th>14</th>\n",
       "      <th>indUnk</th>\n",
       "      <th>...</th>\n",
       "      <th>13</th>\n",
       "      <th>Fashion</th>\n",
       "      <th>38</th>\n",
       "      <th>43</th>\n",
       "      <th>Publishing</th>\n",
       "      <th>40</th>\n",
       "      <th>Marketing</th>\n",
       "      <th>LawEnforcement-Security</th>\n",
       "      <th>HumanResources</th>\n",
       "      <th>Telecommunications</th>\n",
       "    </tr>\n",
       "  </thead>\n",
       "  <tbody>\n",
       "    <tr>\n",
       "      <th>0</th>\n",
       "      <td>0</td>\n",
       "      <td>0</td>\n",
       "      <td>0</td>\n",
       "      <td>0</td>\n",
       "      <td>0</td>\n",
       "      <td>0</td>\n",
       "      <td>0</td>\n",
       "      <td>0</td>\n",
       "      <td>0</td>\n",
       "      <td>0</td>\n",
       "      <td>...</td>\n",
       "      <td>0</td>\n",
       "      <td>0</td>\n",
       "      <td>0</td>\n",
       "      <td>0</td>\n",
       "      <td>0</td>\n",
       "      <td>0</td>\n",
       "      <td>0</td>\n",
       "      <td>0</td>\n",
       "      <td>0</td>\n",
       "      <td>1</td>\n",
       "    </tr>\n",
       "    <tr>\n",
       "      <th>1</th>\n",
       "      <td>0</td>\n",
       "      <td>0</td>\n",
       "      <td>0</td>\n",
       "      <td>0</td>\n",
       "      <td>0</td>\n",
       "      <td>0</td>\n",
       "      <td>0</td>\n",
       "      <td>0</td>\n",
       "      <td>0</td>\n",
       "      <td>0</td>\n",
       "      <td>...</td>\n",
       "      <td>0</td>\n",
       "      <td>0</td>\n",
       "      <td>0</td>\n",
       "      <td>0</td>\n",
       "      <td>1</td>\n",
       "      <td>0</td>\n",
       "      <td>0</td>\n",
       "      <td>0</td>\n",
       "      <td>0</td>\n",
       "      <td>1</td>\n",
       "    </tr>\n",
       "  </tbody>\n",
       "</table>\n",
       "<p>2 rows × 64 columns</p>\n",
       "</div>"
      ],
      "text/plain": [
       "   male  15  Student  Leo  33  InvestmentBanking  Aquarius  female  14  \\\n",
       "0     0   0        0    0   0                  0         0       0   0   \n",
       "1     0   0        0    0   0                  0         0       0   0   \n",
       "\n",
       "   indUnk  ...  13  Fashion  38  43  Publishing  40  Marketing  \\\n",
       "0       0  ...   0        0   0   0           0   0          0   \n",
       "1       0  ...   0        0   0   0           1   0          0   \n",
       "\n",
       "   LawEnforcement-Security  HumanResources  Telecommunications  \n",
       "0                        0               0                   1  \n",
       "1                        0               0                   1  \n",
       "\n",
       "[2 rows x 64 columns]"
      ]
     },
     "execution_count": 35,
     "metadata": {},
     "output_type": "execute_result"
    }
   ],
   "source": [
    "y_train_df=pd.DataFrame(y_train,columns=label_counts.keys())\n",
    "y_train_df.head(2)"
   ]
  },
  {
   "cell_type": "code",
   "execution_count": 36,
   "id": "597c96bc",
   "metadata": {},
   "outputs": [
    {
     "data": {
      "text/plain": [
       "0    2000\n",
       "Name: 33, dtype: int64"
      ]
     },
     "execution_count": 36,
     "metadata": {},
     "output_type": "execute_result"
    }
   ],
   "source": [
    "y_predicted_df=pd.DataFrame(Y_predicted,columns=label_counts.keys())\n",
    "y_predicted_df['33'].value_counts()"
   ]
  },
  {
   "cell_type": "code",
   "execution_count": 37,
   "id": "d4f4bb89",
   "metadata": {},
   "outputs": [
    {
     "name": "stdout",
     "output_type": "stream",
     "text": [
      "[367, 1351, 1801, 553, 1338, 1124, 141, 1015, 1390, 678]\n",
      "('male',)\n",
      "('24', 'Sagittarius', 'female', 'indUnk')\n",
      "('male',)\n",
      "('24', 'Sagittarius', 'female', 'indUnk')\n",
      "('male',)\n",
      "('35', 'Aries', 'Technology', 'male')\n",
      "('male',)\n",
      "('34', 'Sagittarius', 'female', 'indUnk')\n",
      "('male',)\n",
      "('15', 'Student', 'Virgo', 'male')\n",
      "('male',)\n",
      "('27', 'Taurus', 'female', 'indUnk')\n",
      "('male',)\n",
      "('36', 'Aries', 'Fashion', 'male')\n",
      "('male',)\n",
      "('17', 'Leo', 'female', 'indUnk')\n",
      "('male',)\n",
      "('35', 'Aries', 'Technology', 'male')\n",
      "('male',)\n",
      "('35', 'Aries', 'Technology', 'male')\n"
     ]
    }
   ],
   "source": [
    "import random \n",
    "\n",
    "def print_predicted(Y_predicted, y_test = y_test , n = 10):\n",
    "    j = []\n",
    "    for i in range(n):\n",
    "        j.append(random.randint(0, len(y_test)))\n",
    "    print(j)\n",
    "                 \n",
    "    for k in j:\n",
    "        print(binarizer.inverse_transform(Y_predicted)[k])\n",
    "        print(binarizer.inverse_transform(y_test)[k])\n",
    "print_predicted(Y_predicted=Y_predicted,y_test=y_test, n= 10)"
   ]
  },
  {
   "cell_type": "code",
   "execution_count": 38,
   "id": "4ba054b1",
   "metadata": {},
   "outputs": [
    {
     "name": "stdout",
     "output_type": "stream",
     "text": [
      "**Processing male comments...**\n",
      "Accuracy score:  0.992\n",
      "F1 score: weighted 0.9880160642570281\n",
      "Average precision score: weighted 0.008\n",
      "Average recall score: weighted 0.992\n",
      "None\n",
      "\n",
      "\n",
      "**Processing 15 comments...**\n",
      "Accuracy score:  0.979\n",
      "F1 score: weighted 0.9686114199090449\n",
      "Average precision score: weighted 0.021\n",
      "Average recall score: weighted 0.979\n",
      "None\n",
      "\n",
      "\n",
      "**Processing Student comments...**\n",
      "Accuracy score:  0.9435\n",
      "F1 score: weighted 0.9160712631849756\n",
      "Average precision score: weighted 0.0565\n",
      "Average recall score: weighted 0.9435\n",
      "None\n",
      "\n",
      "\n",
      "**Processing Leo comments...**\n",
      "Accuracy score:  0.9575\n",
      "F1 score: weighted 0.9367113665389527\n",
      "Average precision score: weighted 0.0425\n",
      "Average recall score: weighted 0.9575\n",
      "None\n",
      "\n",
      "\n",
      "**Processing 33 comments...**\n",
      "Accuracy score:  0.8915\n",
      "F1 score: weighted 0.8403618821041502\n",
      "Average precision score: weighted 0.1085\n",
      "Average recall score: weighted 0.8915\n",
      "None\n",
      "\n",
      "\n",
      "**Processing InvestmentBanking comments...**\n",
      "Accuracy score:  0.9795\n",
      "F1 score: weighted 0.9693561505430666\n",
      "Average precision score: weighted 0.0205\n",
      "Average recall score: weighted 0.9795\n",
      "None\n",
      "\n",
      "\n",
      "**Processing Aquarius comments...**\n",
      "Accuracy score:  0.93\n",
      "F1 score: weighted 0.8962694300518134\n",
      "Average precision score: weighted 0.07\n",
      "Average recall score: weighted 0.93\n",
      "None\n",
      "\n",
      "\n",
      "**Processing female comments...**\n",
      "Accuracy score:  0.958\n",
      "F1 score: weighted 0.9374504596527069\n",
      "Average precision score: weighted 0.042\n",
      "Average recall score: weighted 0.958\n",
      "None\n",
      "\n",
      "\n",
      "**Processing 14 comments...**\n",
      "Accuracy score:  0.975\n",
      "F1 score: weighted 0.9626582278481012\n",
      "Average precision score: weighted 0.025\n",
      "Average recall score: weighted 0.975\n",
      "None\n",
      "\n",
      "\n",
      "**Processing indUnk comments...**\n",
      "Accuracy score:  0.8985\n",
      "F1 score: weighted 0.8504632604687912\n",
      "Average precision score: weighted 0.1015\n",
      "Average recall score: weighted 0.8985\n",
      "None\n",
      "\n",
      "\n",
      "**Processing Aries comments...**\n",
      "Accuracy score:  0.9825\n",
      "F1 score: weighted 0.9738272383354352\n",
      "Average precision score: weighted 0.0175\n",
      "Average recall score: weighted 0.9825\n",
      "None\n",
      "\n",
      "\n",
      "**Processing 25 comments...**\n",
      "Accuracy score:  0.9445\n",
      "F1 score: weighted 0.9175420416559527\n",
      "Average precision score: weighted 0.0555\n",
      "Average recall score: weighted 0.9445\n",
      "None\n",
      "\n",
      "\n",
      "**Processing Capricorn comments...**\n",
      "Accuracy score:  0.766\n",
      "F1 score: weighted 0.6645028312570781\n",
      "Average precision score: weighted 0.234\n",
      "Average recall score: weighted 0.766\n",
      "None\n",
      "\n",
      "\n",
      "**Processing 17 comments...**\n",
      "Accuracy score:  0.824\n",
      "F1 score: weighted 0.7444912280701754\n",
      "Average precision score: weighted 0.176\n",
      "Average recall score: weighted 0.824\n",
      "None\n",
      "\n",
      "\n",
      "**Processing Gemini comments...**\n",
      "Accuracy score:  1.0\n",
      "F1 score: weighted 1.0\n",
      "Average precision score: weighted nan\n",
      "Average recall score: weighted 1.0\n",
      "None\n",
      "\n",
      "\n",
      "**Processing 23 comments...**\n"
     ]
    },
    {
     "name": "stderr",
     "output_type": "stream",
     "text": [
      "C:\\Users\\rajhi\\anaconda3\\lib\\site-packages\\sklearn\\metrics\\_ranking.py:817: RuntimeWarning: invalid value encountered in true_divide\n",
      "  recall = tps / tps[-1]\n"
     ]
    },
    {
     "name": "stdout",
     "output_type": "stream",
     "text": [
      "Accuracy score:  0.9935\n",
      "F1 score: weighted 0.9902605969400552\n",
      "Average precision score: weighted 0.0065\n",
      "Average recall score: weighted 0.9935\n",
      "None\n",
      "\n",
      "\n",
      "**Processing Non-Profit comments...**\n",
      "Accuracy score:  0.994\n",
      "F1 score: weighted 0.9910090270812437\n",
      "Average precision score: weighted 0.006\n",
      "Average recall score: weighted 0.994\n",
      "None\n",
      "\n",
      "\n",
      "**Processing Cancer comments...**\n",
      "Accuracy score:  0.9995\n",
      "F1 score: weighted 0.999250062515629\n",
      "Average precision score: weighted 0.0005\n",
      "Average recall score: weighted 0.9995\n",
      "None\n",
      "\n",
      "\n",
      "**Processing Banking comments...**\n",
      "Accuracy score:  0.996\n",
      "F1 score: weighted 0.9940040080160322\n",
      "Average precision score: weighted 0.004\n",
      "Average recall score: weighted 0.996\n",
      "None\n",
      "\n",
      "\n",
      "**Processing 37 comments...**\n",
      "Accuracy score:  0.9975\n",
      "F1 score: weighted 0.9962515644555696\n",
      "Average precision score: weighted 0.0025\n",
      "Average recall score: weighted 0.9975\n",
      "None\n",
      "\n",
      "\n",
      "**Processing Sagittarius comments...**\n",
      "Accuracy score:  1.0\n",
      "F1 score: weighted 1.0\n",
      "Average precision score: weighted nan\n",
      "Average recall score: weighted 1.0\n",
      "None\n",
      "\n",
      "\n",
      "**Processing 26 comments...**\n"
     ]
    },
    {
     "name": "stderr",
     "output_type": "stream",
     "text": [
      "C:\\Users\\rajhi\\anaconda3\\lib\\site-packages\\sklearn\\metrics\\_ranking.py:817: RuntimeWarning: invalid value encountered in true_divide\n",
      "  recall = tps / tps[-1]\n"
     ]
    },
    {
     "name": "stdout",
     "output_type": "stream",
     "text": [
      "Accuracy score:  1.0\n",
      "F1 score: weighted 1.0\n",
      "Average precision score: weighted nan\n",
      "Average recall score: weighted 1.0\n",
      "None\n",
      "\n",
      "\n",
      "**Processing 24 comments...**\n"
     ]
    },
    {
     "name": "stderr",
     "output_type": "stream",
     "text": [
      "C:\\Users\\rajhi\\anaconda3\\lib\\site-packages\\sklearn\\metrics\\_ranking.py:817: RuntimeWarning: invalid value encountered in true_divide\n",
      "  recall = tps / tps[-1]\n"
     ]
    },
    {
     "name": "stdout",
     "output_type": "stream",
     "text": [
      "Accuracy score:  0.9985\n",
      "F1 score: weighted 0.9977505629221918\n",
      "Average precision score: weighted 0.0015\n",
      "Average recall score: weighted 0.9985\n",
      "None\n",
      "\n",
      "\n",
      "**Processing Scorpio comments...**\n",
      "Accuracy score:  0.9995\n",
      "F1 score: weighted 0.999250062515629\n",
      "Average precision score: weighted 0.0005\n",
      "Average recall score: weighted 0.9995\n",
      "None\n",
      "\n",
      "\n",
      "**Processing 27 comments...**\n",
      "Accuracy score:  0.999\n",
      "F1 score: weighted 0.9985002501250625\n",
      "Average precision score: weighted 0.001\n",
      "Average recall score: weighted 0.999\n",
      "None\n",
      "\n",
      "\n",
      "**Processing Education comments...**\n",
      "Accuracy score:  0.946\n",
      "F1 score: weighted 0.9197492291880782\n",
      "Average precision score: weighted 0.054\n",
      "Average recall score: weighted 0.946\n",
      "None\n",
      "\n",
      "\n",
      "**Processing 45 comments...**\n",
      "Accuracy score:  0.5735\n",
      "F1 score: weighted 0.4180517953606609\n",
      "Average precision score: weighted 0.4265\n",
      "Average recall score: weighted 0.5735\n",
      "None\n",
      "\n",
      "\n",
      "**Processing Engineering comments...**\n",
      "Accuracy score:  0.998\n",
      "F1 score: weighted 0.997001001001001\n",
      "Average precision score: weighted 0.002\n",
      "Average recall score: weighted 0.998\n",
      "None\n",
      "\n",
      "\n",
      "**Processing Libra comments...**\n",
      "Accuracy score:  0.9985\n",
      "F1 score: weighted 0.9977505629221918\n",
      "Average precision score: weighted 0.0015\n",
      "Average recall score: weighted 0.9985\n",
      "None\n",
      "\n",
      "\n",
      "**Processing Science comments...**\n",
      "Accuracy score:  0.9995\n",
      "F1 score: weighted 0.999250062515629\n",
      "Average precision score: weighted 0.0005\n",
      "Average recall score: weighted 0.9995\n",
      "None\n",
      "\n",
      "\n",
      "**Processing 34 comments...**\n",
      "Accuracy score:  0.9895\n",
      "F1 score: weighted 0.9842777079668259\n",
      "Average precision score: weighted 0.0105\n",
      "Average recall score: weighted 0.9895\n",
      "None\n",
      "\n",
      "\n",
      "**Processing 41 comments...**\n",
      "Accuracy score:  0.9515\n",
      "F1 score: weighted 0.9278526774276198\n",
      "Average precision score: weighted 0.0485\n",
      "Average recall score: weighted 0.9515\n",
      "None\n",
      "\n",
      "\n",
      "**Processing Communications-Media comments...**\n",
      "Accuracy score:  0.9785\n",
      "F1 score: weighted 0.9678668182966895\n",
      "Average precision score: weighted 0.0215\n",
      "Average recall score: weighted 0.9785\n",
      "None\n",
      "\n",
      "\n",
      "**Processing BusinessServices comments...**\n",
      "Accuracy score:  0.989\n",
      "F1 score: weighted 0.9835304172951232\n",
      "Average precision score: weighted 0.011\n",
      "Average recall score: weighted 0.989\n",
      "None\n",
      "\n",
      "\n",
      "**Processing Sports-Recreation comments...**\n",
      "Accuracy score:  0.997\n",
      "F1 score: weighted 0.9955022533800703\n",
      "Average precision score: weighted 0.003\n",
      "Average recall score: weighted 0.997\n",
      "None\n",
      "\n",
      "\n",
      "**Processing Virgo comments...**\n",
      "Accuracy score:  0.9735\n",
      "F1 score: weighted 0.9604279199391943\n",
      "Average precision score: weighted 0.0265\n",
      "Average recall score: weighted 0.9735\n",
      "None\n",
      "\n",
      "\n",
      "**Processing Taurus comments...**\n",
      "Accuracy score:  0.987\n",
      "F1 score: weighted 0.9805425264217413\n",
      "Average precision score: weighted 0.013\n",
      "Average recall score: weighted 0.987\n",
      "None\n",
      "\n",
      "\n",
      "**Processing Arts comments...**\n",
      "Accuracy score:  0.834\n",
      "F1 score: weighted 0.7585125408942203\n",
      "Average precision score: weighted 0.166\n",
      "Average recall score: weighted 0.834\n",
      "None\n",
      "\n",
      "\n",
      "**Processing Pisces comments...**\n",
      "Accuracy score:  0.9815\n",
      "F1 score: weighted 0.9723363613424174\n",
      "Average precision score: weighted 0.0185\n",
      "Average recall score: weighted 0.9815\n",
      "None\n",
      "\n",
      "\n",
      "**Processing 44 comments...**\n",
      "Accuracy score:  1.0\n",
      "F1 score: weighted 1.0\n",
      "Average precision score: weighted nan\n",
      "Average recall score: weighted 1.0\n",
      "None\n",
      "\n",
      "\n",
      "**Processing 16 comments...**\n"
     ]
    },
    {
     "name": "stderr",
     "output_type": "stream",
     "text": [
      "C:\\Users\\rajhi\\anaconda3\\lib\\site-packages\\sklearn\\metrics\\_ranking.py:817: RuntimeWarning: invalid value encountered in true_divide\n",
      "  recall = tps / tps[-1]\n"
     ]
    },
    {
     "name": "stdout",
     "output_type": "stream",
     "text": [
      "Accuracy score:  0.984\n",
      "F1 score: weighted 0.9760645161290323\n",
      "Average precision score: weighted 0.016\n",
      "Average recall score: weighted 0.984\n",
      "None\n",
      "\n",
      "\n",
      "**Processing Internet comments...**\n",
      "Accuracy score:  0.9905\n",
      "F1 score: weighted 0.9857726701833711\n",
      "Average precision score: weighted 0.0095\n",
      "Average recall score: weighted 0.9905\n",
      "None\n",
      "\n",
      "\n",
      "**Processing Museums-Libraries comments...**\n",
      "Accuracy score:  0.9995\n",
      "F1 score: weighted 0.999250062515629\n",
      "Average precision score: weighted 0.0005\n",
      "Average recall score: weighted 0.9995\n",
      "None\n",
      "\n",
      "\n",
      "**Processing Accounting comments...**\n",
      "Accuracy score:  1.0\n",
      "F1 score: weighted 1.0\n",
      "Average precision score: weighted nan\n",
      "Average recall score: weighted 1.0\n",
      "None\n",
      "\n",
      "\n",
      "**Processing 39 comments...**\n"
     ]
    },
    {
     "name": "stderr",
     "output_type": "stream",
     "text": [
      "C:\\Users\\rajhi\\anaconda3\\lib\\site-packages\\sklearn\\metrics\\_ranking.py:817: RuntimeWarning: invalid value encountered in true_divide\n",
      "  recall = tps / tps[-1]\n"
     ]
    },
    {
     "name": "stdout",
     "output_type": "stream",
     "text": [
      "Accuracy score:  0.9695\n",
      "F1 score: weighted 0.9544861640010155\n",
      "Average precision score: weighted 0.0305\n",
      "Average recall score: weighted 0.9695\n",
      "None\n",
      "\n",
      "\n",
      "**Processing 35 comments...**\n",
      "Accuracy score:  0.9495\n",
      "F1 score: weighted 0.9249040779687099\n",
      "Average precision score: weighted 0.0505\n",
      "Average recall score: weighted 0.9495\n",
      "None\n",
      "\n",
      "\n",
      "**Processing Technology comments...**\n",
      "Accuracy score:  0.989\n",
      "F1 score: weighted 0.9835304172951232\n",
      "Average precision score: weighted 0.011\n",
      "Average recall score: weighted 0.989\n",
      "None\n",
      "\n",
      "\n",
      "**Processing 36 comments...**\n",
      "Accuracy score:  0.9985\n",
      "F1 score: weighted 0.9977505629221918\n",
      "Average precision score: weighted 0.0015\n",
      "Average recall score: weighted 0.9985\n",
      "None\n",
      "\n",
      "\n",
      "**Processing Law comments...**\n",
      "Accuracy score:  0.9935\n",
      "F1 score: weighted 0.9902605969400552\n",
      "Average precision score: weighted 0.0065\n",
      "Average recall score: weighted 0.9935\n",
      "None\n",
      "\n",
      "\n",
      "**Processing 46 comments...**\n",
      "Accuracy score:  0.955\n",
      "F1 score: weighted 0.9330179028132992\n",
      "Average precision score: weighted 0.045\n",
      "Average recall score: weighted 0.955\n",
      "None\n",
      "\n",
      "\n",
      "**Processing Consulting comments...**\n",
      "Accuracy score:  0.9995\n",
      "F1 score: weighted 0.999250062515629\n",
      "Average precision score: weighted 0.0005\n",
      "Average recall score: weighted 0.9995\n",
      "None\n",
      "\n",
      "\n",
      "**Processing Automotive comments...**\n",
      "Accuracy score:  0.9985\n",
      "F1 score: weighted 0.9977505629221918\n",
      "Average precision score: weighted 0.0015\n",
      "Average recall score: weighted 0.9985\n",
      "None\n",
      "\n",
      "\n",
      "**Processing 42 comments...**\n",
      "Accuracy score:  0.889\n",
      "F1 score: weighted 0.8367612493382742\n",
      "Average precision score: weighted 0.111\n",
      "Average recall score: weighted 0.889\n",
      "None\n",
      "\n",
      "\n",
      "**Processing Religion comments...**\n",
      "Accuracy score:  0.9915\n",
      "F1 score: weighted 0.9872681395932715\n",
      "Average precision score: weighted 0.0085\n",
      "Average recall score: weighted 0.9915\n",
      "None\n",
      "\n",
      "\n",
      "**Processing 13 comments...**\n",
      "Accuracy score:  0.905\n",
      "F1 score: weighted 0.8598687664041995\n",
      "Average precision score: weighted 0.095\n",
      "Average recall score: weighted 0.905\n",
      "None\n",
      "\n",
      "\n",
      "**Processing Fashion comments...**\n",
      "Accuracy score:  0.994\n",
      "F1 score: weighted 0.9910090270812437\n",
      "Average precision score: weighted 0.006\n",
      "Average recall score: weighted 0.994\n",
      "None\n",
      "\n",
      "\n",
      "**Processing 38 comments...**\n",
      "Accuracy score:  0.8915\n",
      "F1 score: weighted 0.8403618821041502\n",
      "Average precision score: weighted 0.1085\n",
      "Average recall score: weighted 0.8915\n",
      "None\n",
      "\n",
      "\n",
      "**Processing 43 comments...**\n",
      "Accuracy score:  0.921\n",
      "F1 score: weighted 0.8831244143675169\n",
      "Average precision score: weighted 0.079\n",
      "Average recall score: weighted 0.921\n",
      "None\n",
      "\n",
      "\n",
      "**Processing Publishing comments...**\n",
      "Accuracy score:  0.7275\n",
      "F1 score: weighted 0.6127424023154848\n",
      "Average precision score: weighted 0.2725\n",
      "Average recall score: weighted 0.7275\n",
      "None\n",
      "\n",
      "\n",
      "**Processing 40 comments...**\n",
      "Accuracy score:  1.0\n",
      "F1 score: weighted 1.0\n",
      "Average precision score: weighted nan\n",
      "Average recall score: weighted 1.0\n",
      "None\n",
      "\n",
      "\n",
      "**Processing Marketing comments...**\n"
     ]
    },
    {
     "name": "stderr",
     "output_type": "stream",
     "text": [
      "C:\\Users\\rajhi\\anaconda3\\lib\\site-packages\\sklearn\\metrics\\_ranking.py:817: RuntimeWarning: invalid value encountered in true_divide\n",
      "  recall = tps / tps[-1]\n"
     ]
    },
    {
     "name": "stdout",
     "output_type": "stream",
     "text": [
      "Accuracy score:  0.98\n",
      "F1 score: weighted 0.9701010101010101\n",
      "Average precision score: weighted 0.02\n",
      "Average recall score: weighted 0.98\n",
      "None\n",
      "\n",
      "\n",
      "**Processing LawEnforcement-Security comments...**\n",
      "Accuracy score:  0.598\n",
      "F1 score: weighted 0.44756445556946184\n",
      "Average precision score: weighted 0.402\n",
      "Average recall score: weighted 0.598\n",
      "None\n",
      "\n",
      "\n",
      "**Processing HumanResources comments...**\n",
      "Accuracy score:  0.6775\n",
      "F1 score: weighted 0.5472503725782415\n",
      "Average precision score: weighted 0.3225\n",
      "Average recall score: weighted 0.6775\n",
      "None\n",
      "\n",
      "\n",
      "**Processing Telecommunications comments...**\n",
      "Accuracy score:  0.598\n",
      "F1 score: weighted 0.44756445556946184\n",
      "Average precision score: weighted 0.598\n",
      "Average recall score: weighted 0.598\n",
      "None\n",
      "\n",
      "\n"
     ]
    }
   ],
   "source": [
    "for category in label_counts.keys():\n",
    "    print('**Processing {} comments...**'.format(category))\n",
    "    \n",
    "    # Training logistic regression model on train data\n",
    "    LogReg_pipeline.fit(X_train, y_train_df[category])\n",
    "    \n",
    "    # calculating test accuracy\n",
    "    prediction = LogReg_pipeline.predict(X_test)\n",
    "    print(display_metrics_weighted(y_test_df[category], prediction))\n",
    "    print(\"\\n\")"
   ]
  },
  {
   "cell_type": "markdown",
   "id": "e49c1b72",
   "metadata": {},
   "source": [
    "Summary:\n",
    "1. Model overall shows good performance across labels.\n",
    "2. most of the labels were imbalanced. f1 score weighted across most of the labeles is good.\n",
    "3. Model is not performing well on few classes due to limited examples"
   ]
  },
  {
   "cell_type": "markdown",
   "id": "60e16d47",
   "metadata": {},
   "source": [
    "### Part 2"
   ]
  },
  {
   "cell_type": "markdown",
   "id": "142fbc57",
   "metadata": {},
   "source": [
    "#### PROJECT OBJECTIVE: Design a python based interactive semi - rule based chatbot which can do the following: "
   ]
  },
  {
   "cell_type": "code",
   "execution_count": 39,
   "id": "5d93d2cf",
   "metadata": {},
   "outputs": [],
   "source": [
    "### Step 1: Import library"
   ]
  },
  {
   "cell_type": "code",
   "execution_count": 40,
   "id": "cbd2d6f1",
   "metadata": {},
   "outputs": [
    {
     "name": "stderr",
     "output_type": "stream",
     "text": [
      "[nltk_data] Downloading package stopwords to\n",
      "[nltk_data]     C:\\Users\\rajhi\\AppData\\Roaming\\nltk_data...\n",
      "[nltk_data]   Package stopwords is already up-to-date!\n",
      "[nltk_data] Downloading package punkt to\n",
      "[nltk_data]     C:\\Users\\rajhi\\AppData\\Roaming\\nltk_data...\n",
      "[nltk_data]   Package punkt is already up-to-date!\n",
      "[nltk_data] Downloading package wordnet to\n",
      "[nltk_data]     C:\\Users\\rajhi\\AppData\\Roaming\\nltk_data...\n",
      "[nltk_data]   Package wordnet is already up-to-date!\n"
     ]
    }
   ],
   "source": [
    "import nltk\n",
    "from nltk.chat.util import Chat, reflections\n",
    "import random\n",
    "nltk.download('stopwords') # collection of stopwords in different language. Will be used stop words like is, and etc.\n",
    "nltk.download('punkt')\n",
    "import string\n",
    "nltk.download('wordnet')\n",
    "import warnings\n",
    "import json\n",
    "import numpy as np"
   ]
  },
  {
   "cell_type": "code",
   "execution_count": 43,
   "id": "86669fa6",
   "metadata": {},
   "outputs": [],
   "source": [
    "# import tensorflow\n",
    "# tensorflow.__version__"
   ]
  },
  {
   "cell_type": "markdown",
   "id": "5a0a269e",
   "metadata": {},
   "source": [
    "### Step 2: Import corpus"
   ]
  },
  {
   "cell_type": "code",
   "execution_count": 44,
   "id": "e8c444e2",
   "metadata": {},
   "outputs": [],
   "source": [
    "#Read training corpus\n",
    "with open( \"GL Bot.json\") as file:\n",
    "    corpus=json.load(file)"
   ]
  },
  {
   "cell_type": "code",
   "execution_count": 45,
   "id": "01960269",
   "metadata": {},
   "outputs": [],
   "source": [
    "#clean corpus\n",
    "punct=list(string.punctuation)\n",
    "import nltk\n",
    "import re\n",
    "\n",
    "stop_words = nltk.corpus.stopwords.words('english')\n",
    "\n",
    "def corpus_clean(doc):\n",
    "    doc=doc.lower()\n",
    "    doc=doc.strip()\n",
    "     ## tokenize the document\n",
    "    tokens= nltk.word_tokenize(doc)\n",
    "    wordList=[token for token in tokens if token not in punct]\n",
    "    # re-create document from filtered tokens\n",
    "    filtered_tokens = [token for token in wordList if token not in stop_words]\n",
    "    doc = ' '.join(filtered_tokens)\n",
    "    return doc\n",
    "    \n",
    "normalize_corpus = np.vectorize(corpus_clean)"
   ]
  },
  {
   "cell_type": "code",
   "execution_count": null,
   "id": "4fa2b5c6",
   "metadata": {},
   "outputs": [],
   "source": [
    "### Get text and tage details"
   ]
  },
  {
   "cell_type": "code",
   "execution_count": 46,
   "id": "79c74781",
   "metadata": {},
   "outputs": [],
   "source": [
    "doc_x=[]\n",
    "doc_y=[]\n",
    "w_norm=[]\n",
    "Label=[]\n",
    "for intent in corpus['intents']:\n",
    "    for pattern in intent['patterns']:\n",
    "        corpusar=np.array(pattern)\n",
    "        w_temp=corpus_clean(pattern)\n",
    "        w_norm.append(w_temp)\n",
    "        doc_x.append(pattern)\n",
    "        doc_y.append(intent['tag'])  "
   ]
  },
  {
   "cell_type": "code",
   "execution_count": 47,
   "id": "f8e9b90b",
   "metadata": {},
   "outputs": [
    {
     "name": "stdout",
     "output_type": "stream",
     "text": [
      "     text  label\n",
      "0      hi  Intro\n",
      "2  anyone  Intro\n",
      "3   hello  Intro\n",
      "\n",
      "\n",
      "dataframe shape: (134, 2)\n"
     ]
    }
   ],
   "source": [
    "### Create a data frame of text and tag -- with corpus processing\n",
    "import pandas as pd\n",
    "d = {'text': w_norm, 'label': doc_y}\n",
    "dfnorm=pd.DataFrame(d)\n",
    "dfnorm.head()\n",
    "dfnorm1=dfnorm[dfnorm['text'] !=\"\"]\n",
    "print(dfnorm1.head(3))\n",
    "print(\"\\n\")\n",
    "print(\"dataframe shape:\",dfnorm1.shape)"
   ]
  },
  {
   "cell_type": "code",
   "execution_count": 48,
   "id": "15a45108",
   "metadata": {},
   "outputs": [
    {
     "name": "stdout",
     "output_type": "stream",
     "text": [
      "              text  label\n",
      "0               hi  Intro\n",
      "1      how are you  Intro\n",
      "2  is anyone there  Intro\n",
      "\n",
      "\n",
      "dataframe shape: (138, 2)\n"
     ]
    }
   ],
   "source": [
    "### Create a data frame of text and tag -- without processing\n",
    "import pandas as pd\n",
    "d = {'text': doc_x, 'label': doc_y}\n",
    "df=pd.DataFrame(d)\n",
    "df.head()\n",
    "df1=df[df['text'] !=\"\"]\n",
    "print(df1.head(3))\n",
    "print(\"\\n\")\n",
    "print(\"dataframe shape:\",df1.shape)"
   ]
  },
  {
   "cell_type": "code",
   "execution_count": 49,
   "id": "b9c07960",
   "metadata": {},
   "outputs": [
    {
     "name": "stdout",
     "output_type": "stream",
     "text": [
      "<class 'pandas.core.frame.DataFrame'>\n",
      "Int64Index: 138 entries, 0 to 137\n",
      "Data columns (total 2 columns):\n",
      " #   Column  Non-Null Count  Dtype \n",
      "---  ------  --------------  ----- \n",
      " 0   text    138 non-null    object\n",
      " 1   label   138 non-null    object\n",
      "dtypes: object(2)\n",
      "memory usage: 3.2+ KB\n"
     ]
    }
   ],
   "source": [
    "## Checking data frame\n",
    "df1.info()"
   ]
  },
  {
   "cell_type": "code",
   "execution_count": 50,
   "id": "da269ef0",
   "metadata": {},
   "outputs": [
    {
     "data": {
      "text/plain": [
       "text     0\n",
       "label    0\n",
       "dtype: int64"
      ]
     },
     "execution_count": 50,
     "metadata": {},
     "output_type": "execute_result"
    }
   ],
   "source": [
    "df1.isnull().sum()"
   ]
  },
  {
   "cell_type": "code",
   "execution_count": 51,
   "id": "222db9ad",
   "metadata": {},
   "outputs": [
    {
     "data": {
      "text/plain": [
       "SL         0.216418\n",
       "NN         0.179104\n",
       "Intro      0.149254\n",
       "Exit       0.126866\n",
       "Olympus    0.097015\n",
       "Ticket     0.082090\n",
       "Profane    0.067164\n",
       "Bot        0.052239\n",
       "Other      0.029851\n",
       "Name: label, dtype: float64"
      ]
     },
     "execution_count": 51,
     "metadata": {},
     "output_type": "execute_result"
    }
   ],
   "source": [
    "dfnorm1['label'].value_counts('normalize')"
   ]
  },
  {
   "cell_type": "code",
   "execution_count": null,
   "id": "cfe9a7c7",
   "metadata": {},
   "outputs": [],
   "source": [
    "### Step3 : Featurisation"
   ]
  },
  {
   "cell_type": "code",
   "execution_count": null,
   "id": "72224cc9",
   "metadata": {},
   "outputs": [],
   "source": [
    "## TF"
   ]
  },
  {
   "cell_type": "code",
   "execution_count": 52,
   "id": "a7339188",
   "metadata": {},
   "outputs": [
    {
     "data": {
      "text/html": [
       "<div>\n",
       "<style scoped>\n",
       "    .dataframe tbody tr th:only-of-type {\n",
       "        vertical-align: middle;\n",
       "    }\n",
       "\n",
       "    .dataframe tbody tr th {\n",
       "        vertical-align: top;\n",
       "    }\n",
       "\n",
       "    .dataframe thead th {\n",
       "        text-align: right;\n",
       "    }\n",
       "</style>\n",
       "<table border=\"1\" class=\"dataframe\">\n",
       "  <thead>\n",
       "    <tr style=\"text-align: right;\">\n",
       "      <th></th>\n",
       "      <th>able</th>\n",
       "      <th>access</th>\n",
       "      <th>activation</th>\n",
       "      <th>ada</th>\n",
       "      <th>adam</th>\n",
       "      <th>afternoon</th>\n",
       "      <th>aifl</th>\n",
       "      <th>aiml</th>\n",
       "      <th>ann</th>\n",
       "      <th>anyone</th>\n",
       "      <th>...</th>\n",
       "      <th>validation</th>\n",
       "      <th>visible</th>\n",
       "      <th>wasted</th>\n",
       "      <th>weights</th>\n",
       "      <th>whats</th>\n",
       "      <th>window</th>\n",
       "      <th>working</th>\n",
       "      <th>works</th>\n",
       "      <th>ya</th>\n",
       "      <th>yo</th>\n",
       "    </tr>\n",
       "  </thead>\n",
       "  <tbody>\n",
       "    <tr>\n",
       "      <th>0</th>\n",
       "      <td>0</td>\n",
       "      <td>0</td>\n",
       "      <td>0</td>\n",
       "      <td>0</td>\n",
       "      <td>0</td>\n",
       "      <td>0</td>\n",
       "      <td>0</td>\n",
       "      <td>0</td>\n",
       "      <td>0</td>\n",
       "      <td>0</td>\n",
       "      <td>...</td>\n",
       "      <td>0</td>\n",
       "      <td>0</td>\n",
       "      <td>0</td>\n",
       "      <td>0</td>\n",
       "      <td>0</td>\n",
       "      <td>0</td>\n",
       "      <td>0</td>\n",
       "      <td>0</td>\n",
       "      <td>0</td>\n",
       "      <td>0</td>\n",
       "    </tr>\n",
       "    <tr>\n",
       "      <th>1</th>\n",
       "      <td>0</td>\n",
       "      <td>0</td>\n",
       "      <td>0</td>\n",
       "      <td>0</td>\n",
       "      <td>0</td>\n",
       "      <td>0</td>\n",
       "      <td>0</td>\n",
       "      <td>0</td>\n",
       "      <td>0</td>\n",
       "      <td>1</td>\n",
       "      <td>...</td>\n",
       "      <td>0</td>\n",
       "      <td>0</td>\n",
       "      <td>0</td>\n",
       "      <td>0</td>\n",
       "      <td>0</td>\n",
       "      <td>0</td>\n",
       "      <td>0</td>\n",
       "      <td>0</td>\n",
       "      <td>0</td>\n",
       "      <td>0</td>\n",
       "    </tr>\n",
       "  </tbody>\n",
       "</table>\n",
       "<p>2 rows × 141 columns</p>\n",
       "</div>"
      ],
      "text/plain": [
       "   able  access  activation  ada  adam  afternoon  aifl  aiml  ann  anyone  \\\n",
       "0     0       0           0    0     0          0     0     0    0       0   \n",
       "1     0       0           0    0     0          0     0     0    0       1   \n",
       "\n",
       "   ...  validation  visible  wasted  weights  whats  window  working  works  \\\n",
       "0  ...           0        0       0        0      0       0        0      0   \n",
       "1  ...           0        0       0        0      0       0        0      0   \n",
       "\n",
       "   ya  yo  \n",
       "0   0   0  \n",
       "1   0   0  \n",
       "\n",
       "[2 rows x 141 columns]"
      ]
     },
     "execution_count": 52,
     "metadata": {},
     "output_type": "execute_result"
    }
   ],
   "source": [
    "from sklearn.feature_extraction.text import CountVectorizer\n",
    "\n",
    "cv= CountVectorizer(min_df=1, max_df=1.0, ngram_range=(1,1))\n",
    "cv_matrix= cv.fit_transform(dfnorm1['text'])\n",
    "cv_matrix_ar = cv_matrix.toarray()\n",
    "cv_matrix_ar.shape\n",
    "vocab = cv.get_feature_names()\n",
    "cv_matrix_df=pd.DataFrame(cv_matrix_ar, columns=vocab)\n",
    "cv_matrix_df.head(2)"
   ]
  },
  {
   "cell_type": "code",
   "execution_count": null,
   "id": "06ddb254",
   "metadata": {},
   "outputs": [],
   "source": [
    "### TF-IDF Model"
   ]
  },
  {
   "cell_type": "code",
   "execution_count": 54,
   "id": "4ba03efa",
   "metadata": {},
   "outputs": [
    {
     "data": {
      "text/html": [
       "<div>\n",
       "<style scoped>\n",
       "    .dataframe tbody tr th:only-of-type {\n",
       "        vertical-align: middle;\n",
       "    }\n",
       "\n",
       "    .dataframe tbody tr th {\n",
       "        vertical-align: top;\n",
       "    }\n",
       "\n",
       "    .dataframe thead th {\n",
       "        text-align: right;\n",
       "    }\n",
       "</style>\n",
       "<table border=\"1\" class=\"dataframe\">\n",
       "  <thead>\n",
       "    <tr style=\"text-align: right;\">\n",
       "      <th></th>\n",
       "      <th>able</th>\n",
       "      <th>access</th>\n",
       "      <th>activation</th>\n",
       "      <th>ada</th>\n",
       "      <th>adam</th>\n",
       "      <th>afternoon</th>\n",
       "      <th>aifl</th>\n",
       "      <th>aiml</th>\n",
       "      <th>ann</th>\n",
       "      <th>anyone</th>\n",
       "      <th>...</th>\n",
       "      <th>validation</th>\n",
       "      <th>visible</th>\n",
       "      <th>wasted</th>\n",
       "      <th>weights</th>\n",
       "      <th>whats</th>\n",
       "      <th>window</th>\n",
       "      <th>working</th>\n",
       "      <th>works</th>\n",
       "      <th>ya</th>\n",
       "      <th>yo</th>\n",
       "    </tr>\n",
       "  </thead>\n",
       "  <tbody>\n",
       "    <tr>\n",
       "      <th>0</th>\n",
       "      <td>0.0</td>\n",
       "      <td>0.0</td>\n",
       "      <td>0.0</td>\n",
       "      <td>0.0</td>\n",
       "      <td>0.0</td>\n",
       "      <td>0.0</td>\n",
       "      <td>0.0</td>\n",
       "      <td>0.0</td>\n",
       "      <td>0.0</td>\n",
       "      <td>0.0</td>\n",
       "      <td>...</td>\n",
       "      <td>0.0</td>\n",
       "      <td>0.0</td>\n",
       "      <td>0.0</td>\n",
       "      <td>0.0</td>\n",
       "      <td>0.0</td>\n",
       "      <td>0.0</td>\n",
       "      <td>0.0</td>\n",
       "      <td>0.0</td>\n",
       "      <td>0.0</td>\n",
       "      <td>0.0</td>\n",
       "    </tr>\n",
       "    <tr>\n",
       "      <th>1</th>\n",
       "      <td>0.0</td>\n",
       "      <td>0.0</td>\n",
       "      <td>0.0</td>\n",
       "      <td>0.0</td>\n",
       "      <td>0.0</td>\n",
       "      <td>0.0</td>\n",
       "      <td>0.0</td>\n",
       "      <td>0.0</td>\n",
       "      <td>0.0</td>\n",
       "      <td>1.0</td>\n",
       "      <td>...</td>\n",
       "      <td>0.0</td>\n",
       "      <td>0.0</td>\n",
       "      <td>0.0</td>\n",
       "      <td>0.0</td>\n",
       "      <td>0.0</td>\n",
       "      <td>0.0</td>\n",
       "      <td>0.0</td>\n",
       "      <td>0.0</td>\n",
       "      <td>0.0</td>\n",
       "      <td>0.0</td>\n",
       "    </tr>\n",
       "  </tbody>\n",
       "</table>\n",
       "<p>2 rows × 141 columns</p>\n",
       "</div>"
      ],
      "text/plain": [
       "   able  access  activation  ada  adam  afternoon  aifl  aiml  ann  anyone  \\\n",
       "0   0.0     0.0         0.0  0.0   0.0        0.0   0.0   0.0  0.0     0.0   \n",
       "1   0.0     0.0         0.0  0.0   0.0        0.0   0.0   0.0  0.0     1.0   \n",
       "\n",
       "   ...  validation  visible  wasted  weights  whats  window  working  works  \\\n",
       "0  ...         0.0      0.0     0.0      0.0    0.0     0.0      0.0    0.0   \n",
       "1  ...         0.0      0.0     0.0      0.0    0.0     0.0      0.0    0.0   \n",
       "\n",
       "    ya   yo  \n",
       "0  0.0  0.0  \n",
       "1  0.0  0.0  \n",
       "\n",
       "[2 rows x 141 columns]"
      ]
     },
     "execution_count": 54,
     "metadata": {},
     "output_type": "execute_result"
    }
   ],
   "source": [
    "from sklearn.feature_extraction.text import TfidfVectorizer\n",
    "tv = TfidfVectorizer(min_df=0., max_df=1., use_idf=True)\n",
    "tv_matrix = tv.fit_transform(dfnorm1['text'])\n",
    "tv_matrix = tv_matrix.toarray()\n",
    "vocab = tv.get_feature_names()\n",
    "tv_matrix_df=pd.DataFrame(np.round(tv_matrix, 2), columns=vocab)\n",
    "tv_matrix_df.head(2)"
   ]
  },
  {
   "cell_type": "code",
   "execution_count": 55,
   "id": "90ca05da",
   "metadata": {},
   "outputs": [],
   "source": [
    "### Key word list \n",
    "link_list=set(['deep','learning', 'svm', 'ada','boosting','machine','neural', 'nets','artificial','intelligence','activation',\n",
    "              'logistic', 'regression','ensemble','knn','imputer','cross','validation','random','forest','gradient','supervised',\n",
    "               'classification','naive','bayes','bagging','hyper','parameter','activation','function','softmax','sigmoid','relu',\n",
    "               'otimizer','epoch','forward', 'propagation','backward','sgd'\n",
    "              ])"
   ]
  },
  {
   "cell_type": "code",
   "execution_count": null,
   "id": "14e03a75",
   "metadata": {},
   "outputs": [],
   "source": [
    "### Processing Labels"
   ]
  },
  {
   "cell_type": "code",
   "execution_count": 58,
   "id": "3b94642b",
   "metadata": {},
   "outputs": [
    {
     "data": {
      "text/plain": [
       "(134,)"
      ]
     },
     "execution_count": 58,
     "metadata": {},
     "output_type": "execute_result"
    }
   ],
   "source": [
    "from sklearn.preprocessing import LabelEncoder\n",
    "le = LabelEncoder()\n",
    "y = le.fit_transform(dfnorm1['label'])\n",
    "y.shape\n",
    "#Use keras.utils.to_categorical function for labels\n",
    "# from tensorflow.keras.utils import to_categorical\n",
    "# y_train = to_categorical(y,num_classes=9)"
   ]
  },
  {
   "cell_type": "code",
   "execution_count": 59,
   "id": "cb7645e7",
   "metadata": {},
   "outputs": [
    {
     "data": {
      "text/plain": [
       "(134,)"
      ]
     },
     "execution_count": 59,
     "metadata": {},
     "output_type": "execute_result"
    }
   ],
   "source": [
    "y.shape"
   ]
  },
  {
   "cell_type": "code",
   "execution_count": null,
   "id": "31be86ff",
   "metadata": {},
   "outputs": [],
   "source": [
    "# y_train[0]"
   ]
  },
  {
   "cell_type": "code",
   "execution_count": null,
   "id": "fea768eb",
   "metadata": {},
   "outputs": [],
   "source": [
    "### Modelling"
   ]
  },
  {
   "cell_type": "code",
   "execution_count": 60,
   "id": "79dcb318",
   "metadata": {},
   "outputs": [],
   "source": [
    "### feature selection\n",
    "## select best features for prediction\n",
    "from sklearn.feature_selection import SelectKBest, chi2\n",
    "\n",
    "ch2 = SelectKBest(chi2, k=50)\n",
    "X = ch2.fit_transform(tv_matrix, y)"
   ]
  },
  {
   "cell_type": "code",
   "execution_count": 61,
   "id": "420b2f0a",
   "metadata": {},
   "outputs": [
    {
     "name": "stdout",
     "output_type": "stream",
     "text": [
      "[0. 0. 0. 0. 0. 0. 0. 0. 0. 0. 0. 0. 0. 0. 0. 0. 0. 0. 0. 0. 0. 0. 0. 0.\n",
      " 0. 0. 0. 0. 0. 0. 0. 0. 0. 0. 0. 0. 0. 0. 0. 0. 0. 0. 0. 0. 0. 0. 0. 0.\n",
      " 0. 0. 0. 0. 0. 0. 0. 0. 1. 0. 0. 0. 0. 0. 0. 0. 0. 0. 0. 0. 0. 0. 0. 0.\n",
      " 0. 0. 0. 0. 0. 0. 0. 0. 0. 0. 0. 0. 0. 0. 0. 0. 0. 0. 0. 0. 0. 0. 0. 0.\n",
      " 0. 0. 0. 0. 0. 0. 0. 0. 0. 0. 0. 0. 0. 0. 0. 0. 0. 0. 0. 0. 0. 0. 0. 0.\n",
      " 0. 0. 0. 0. 0. 0. 0. 0. 0. 0. 0. 0. 0. 0. 0. 0. 0. 0. 0. 0. 0.]\n",
      "[-6.82487773e-002 -8.18801358e-005 -6.15890308e-002  9.43046283e-003\n",
      " -2.58581688e-002 -4.08762562e-003 -6.53660438e-002 -5.50482140e-003\n",
      " -9.23243452e-003 -3.64657591e-002 -1.19968730e-002 -2.80114342e-002\n",
      " -7.45852418e-003  5.90962435e-003 -1.38308141e-002 -2.39885297e-021\n",
      "  1.92291495e-003  7.31350741e-003 -3.81407474e-002  3.12836419e-002\n",
      " -1.49699943e-002 -8.88953379e-016  1.13498762e-002  4.38700618e-002\n",
      " -4.55373929e-002  2.63490938e-002 -4.30613138e-002 -3.39120187e-002\n",
      " -3.91323365e-002  1.59357128e-002 -8.78976211e-003 -1.03988826e-022\n",
      "  9.93025673e-002  8.48709065e-024  8.41591048e-031  4.60845406e-076\n",
      "  2.04036986e-027  3.49665959e-066  1.97144326e-104  0.00000000e+000\n",
      " -5.07658321e-077 -4.92080091e-034 -2.39486835e-020  1.77525622e-019\n",
      " -2.67840684e-019 -1.09498387e-020  9.82809585e-001 -2.41937970e-021\n",
      "  1.29445451e-027 -2.59565359e-028 -1.81608645e-136  3.57862306e-027\n",
      " -4.06814856e-023 -1.70148902e-066 -6.17450422e-120  2.31350200e-020\n",
      "  8.77303575e-034 -3.23807659e-034 -8.06735610e-022  4.21653565e-025\n",
      "  1.27824037e-027 -1.20797504e-023 -1.26865488e-073  5.97561546e-089\n",
      "  8.43693594e-029 -1.12248701e-025  1.77488053e-023  1.09453775e-026\n",
      "  4.19728836e-046 -3.16178093e-024  1.71823346e-022  5.78109551e-033\n",
      " -1.46324309e-020  7.71634276e-024 -3.91624093e-002 -1.33849262e-002\n",
      " -1.19815435e-002  2.75371911e-004 -4.63894762e-003  2.95859923e-017\n",
      " -2.38692375e-003 -1.12086068e-015 -1.58802494e-016 -8.95041431e-024\n",
      " -6.40256635e-003  2.86525743e-015  1.07061316e-017 -6.99707304e-016\n",
      " -1.02114978e-002  2.72374425e-003 -8.37168775e-019 -6.44170281e-004\n",
      " -1.79970331e-017  3.92497503e-003  8.19107532e-003  2.97478278e-003]\n"
     ]
    }
   ],
   "source": [
    "from sklearn.decomposition import PCA\n",
    "pca = PCA(0.95)\n",
    "principalComponents = pca.fit_transform(tv_matrix)\n",
    "principalComponents.shape\n",
    "print(tv_matrix[4])\n",
    "print(principalComponents[0])"
   ]
  },
  {
   "cell_type": "code",
   "execution_count": 62,
   "id": "cbba0dd3",
   "metadata": {},
   "outputs": [
    {
     "data": {
      "text/plain": [
       "LogisticRegression(class_weight='balanced')"
      ]
     },
     "execution_count": 62,
     "metadata": {},
     "output_type": "execute_result"
    }
   ],
   "source": [
    "### Logistic Model for classification\n",
    "from sklearn.linear_model import LogisticRegression\n",
    "model_log = LogisticRegression(class_weight='balanced')\n",
    "model_log.fit(X, y)"
   ]
  },
  {
   "cell_type": "code",
   "execution_count": 63,
   "id": "ca9dd92b",
   "metadata": {},
   "outputs": [
    {
     "data": {
      "text/plain": [
       "0.7089552238805971"
      ]
     },
     "execution_count": 63,
     "metadata": {},
     "output_type": "execute_result"
    }
   ],
   "source": [
    "# prediction \n",
    "y_pred = model_log.predict(X)\n",
    "# model evaluation\n",
    "from sklearn.metrics import accuracy_score, confusion_matrix\n",
    "ac = accuracy_score(y, y_pred)\n",
    "ac"
   ]
  },
  {
   "cell_type": "code",
   "execution_count": 64,
   "id": "7284a921",
   "metadata": {},
   "outputs": [
    {
     "data": {
      "text/plain": [
       "LogisticRegression(class_weight='balanced')"
      ]
     },
     "execution_count": 64,
     "metadata": {},
     "output_type": "execute_result"
    }
   ],
   "source": [
    "### with PCA\n",
    "### Logistic Model for classification\n",
    "from sklearn.linear_model import LogisticRegression\n",
    "model_log = LogisticRegression(class_weight='balanced')\n",
    "model_log.fit(principalComponents, y)"
   ]
  },
  {
   "cell_type": "code",
   "execution_count": 65,
   "id": "ac8fa0e9",
   "metadata": {},
   "outputs": [
    {
     "data": {
      "text/plain": [
       "0.9850746268656716"
      ]
     },
     "execution_count": 65,
     "metadata": {},
     "output_type": "execute_result"
    }
   ],
   "source": [
    "# prediction \n",
    "y_pred = model_log.predict(principalComponents)\n",
    "# model evaluation\n",
    "from sklearn.metrics import accuracy_score, confusion_matrix\n",
    "ac = accuracy_score(y, y_pred)\n",
    "ac"
   ]
  },
  {
   "cell_type": "markdown",
   "id": "09db1168",
   "metadata": {},
   "source": [
    "### *** Bot **"
   ]
  },
  {
   "cell_type": "code",
   "execution_count": 66,
   "id": "5aa43e1d",
   "metadata": {},
   "outputs": [],
   "source": [
    "### Input Data processing\n",
    "def text_preprocess(inp):\n",
    "    doc=inp\n",
    "    norm_input=[]\n",
    "    norm_input = normalize_corpus(inp)\n",
    "    input_matrix = tv.transform(norm_input).toarray()\n",
    "    input_select = pca.transform(input_matrix)\n",
    "#     input_select=ch2.transform(input_matrix)\n",
    "    input_matrix_ar = input_select\n",
    "    \n",
    "    \n",
    "#     print(input_matrix_ar)\n",
    "    return input_matrix_ar"
   ]
  },
  {
   "cell_type": "code",
   "execution_count": 67,
   "id": "0eb27e57",
   "metadata": {},
   "outputs": [],
   "source": [
    "def chat():\n",
    "    print(\"Hello I am Jason Bot!\")\n",
    "    print(\"Would you like any assistance related to Great Learning Olympus, Neural Network and Machine learning.\")\n",
    "    print(\"Note:I do understand English if written in lowerase\")\n",
    "    print(\"If answer is not right( type:*)\")\n",
    "    while True:\n",
    "        inp=input(\"\\n\\nYou:\")\n",
    "        if inp.lower()==\"*\":\n",
    "            print(\"Jason Bot: Please rephrase your question and Try again\")\n",
    "        if inp.lower()=='quit':\n",
    "            break\n",
    "        \n",
    "        inp_proc=text_preprocess([inp])\n",
    "        results_pred=model_log.predict(inp_proc)\n",
    "        results=le.inverse_transform(results_pred)\n",
    "        \n",
    "        for tg in corpus['intents']:\n",
    "            if tg['tag']==results:\n",
    "                if tg['tag'] in ['SL','NN']:\n",
    "                    tokens_a1= set(nltk.word_tokenize(inp))\n",
    "                    filtered_tokens1 = list([token for token in tokens_a1 if token not in stop_words])\n",
    "                    check_list= link_list.intersection(filtered_tokens1)\n",
    "                    check_list=sorted(list(check_list))\n",
    "                    search_word = '_'.join(check_list) \n",
    "                    if search_word=='':\n",
    "                        print(\"Please refer following link\")\n",
    "                        print('https://www.google.com/search?q='+filtered_tokens1[0])\n",
    "                        print(\"If answer is not right( type:*)\")\n",
    "                    elif search_word !='':\n",
    "                        print(\"Please refer following link\")\n",
    "                        responses=['https://en.wikipedia.org/wiki/'+search_word] \n",
    "                        print(\"If answer is not right( type:*)\")\n",
    "                else:\n",
    "                    responses=tg['responses']\n",
    "                \n",
    "        print(random.choice(responses))\n",
    "                "
   ]
  },
  {
   "cell_type": "code",
   "execution_count": 69,
   "id": "8b4fd7ae",
   "metadata": {},
   "outputs": [
    {
     "name": "stdout",
     "output_type": "stream",
     "text": [
      "Hello I am Jason Bot!\n",
      "Would you like any assistance related to Great Learning Olympus, Neural Network and Machine learning.\n",
      "Note:I do understand English if written in lowerase\n",
      "If answer is not right( type:*)\n",
      "\n",
      "\n",
      "You:hi\n",
      "Hello! how can i help you ?\n",
      "\n",
      "\n",
      "You:help me with olympus\n",
      "Link: LMS Login GreatLearning @ https://olympus.greatlearning.in\n",
      "\n",
      "\n",
      "You:what  is machine learning\n",
      "Please refer following link\n",
      "If answer is not right( type:*)\n",
      "https://en.wikipedia.org/wiki/learning_machine\n",
      "\n",
      "\n",
      "You:what is ann\n",
      "Please refer following link\n",
      "https://www.google.com/search?q=ann\n",
      "If answer is not right( type:*)\n",
      "https://en.wikipedia.org/wiki/learning_machine\n",
      "\n",
      "\n",
      "You:*\n",
      "Jason Bot: Please rephrase your question and Try again\n",
      "Hello! how can i help you ?\n",
      "\n",
      "\n",
      "You:transfer request \n",
      "Tarnsferring the request to your PM\n",
      "\n",
      "\n",
      "You:silly bot\n",
      "Tarnsferring the request to your PM\n",
      "\n",
      "\n",
      "You:jerk\n",
      "Please use respectful words\n",
      "\n",
      "\n",
      "You:thank you\n",
      "I hope I was able to assist you, Good Bye\n",
      "\n",
      "\n",
      "You:quit\n"
     ]
    }
   ],
   "source": [
    "#initiate the conversation\n",
    "if __name__ == \"__main__\":\n",
    "    chat()"
   ]
  },
  {
   "cell_type": "code",
   "execution_count": null,
   "id": "24f88c2d",
   "metadata": {},
   "outputs": [],
   "source": []
  }
 ],
 "metadata": {
  "kernelspec": {
   "display_name": "Python 3",
   "language": "python",
   "name": "python3"
  },
  "language_info": {
   "codemirror_mode": {
    "name": "ipython",
    "version": 3
   },
   "file_extension": ".py",
   "mimetype": "text/x-python",
   "name": "python",
   "nbconvert_exporter": "python",
   "pygments_lexer": "ipython3",
   "version": "3.8.8"
  }
 },
 "nbformat": 4,
 "nbformat_minor": 5
}
